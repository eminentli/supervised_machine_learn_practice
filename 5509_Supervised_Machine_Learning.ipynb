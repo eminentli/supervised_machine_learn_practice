{
 "cells": [
  {
   "cell_type": "markdown",
   "id": "5cbf273d-ef89-44f3-9255-3570178d6c0b",
   "metadata": {},
   "source": [
    "# Practice for 5509 Supervise Machine Learning\n",
    "\n",
    "\n",
    "# 1. Problem Statement\n",
    "\n",
    "The background is about a bank whose management wants to explore ways of converting its liability customers to personal loan customers. And a campaign the bank ran for liability customers last year showed a conversion rate of more than 9%. \n",
    "\n",
    "As a data scientist at the bank, it is imperative to build a model that helps the marketing department identify potential customers who are more likely to purchase a loan so that targeted marketing can be conducted to increase loan applications. \n",
    "\n"
   ]
  },
  {
   "cell_type": "markdown",
   "id": "818b1751-8ebb-48e0-8c1c-f3adeee10015",
   "metadata": {
    "tags": []
   },
   "source": [
    "# 2.  EDA"
   ]
  },
  {
   "cell_type": "markdown",
   "id": "483d0de4-7fa8-4a2a-b6df-028a1c99b841",
   "metadata": {},
   "source": [
    "### 2.1 DATA PREPROCESSING"
   ]
  },
  {
   "cell_type": "markdown",
   "id": "e69416d1-7821-4603-a775-eef1add00479",
   "metadata": {},
   "source": [
    "#### 2.1.1  Notebook initialization, load necessary packages"
   ]
  },
  {
   "cell_type": "code",
   "execution_count": 1,
   "id": "b2822094-673e-4ba4-8706-b2f4555b43a2",
   "metadata": {
    "_cell_guid": "b1076dfc-b9ad-4769-8c92-a6c4dae69d19",
    "_uuid": "8f2839f25d086af736a60e9eeb907d3b93b6e0e5",
    "execution": {
     "iopub.execute_input": "2023-02-25T15:32:16.801952Z",
     "iopub.status.busy": "2023-02-25T15:32:16.801952Z",
     "iopub.status.idle": "2023-02-25T15:32:26.957600Z",
     "shell.execute_reply": "2023-02-25T15:32:26.956679Z",
     "shell.execute_reply.started": "2023-02-25T15:32:16.801952Z"
    },
    "papermill": {
     "duration": 1.485482,
     "end_time": "2022-02-05T16:50:39.519275",
     "exception": false,
     "start_time": "2022-02-05T16:50:38.033793",
     "status": "completed"
    },
    "tags": []
   },
   "outputs": [],
   "source": [
    "from sklearn.tree import DecisionTreeClassifier\n",
    "from sklearn.ensemble import RandomForestClassifier\n",
    "import pandas as pd\n",
    "import numpy as np\n",
    "from sklearn import datasets\n",
    "from sklearn import metrics\n",
    "from sklearn.model_selection import train_test_split\n",
    "from sklearn.preprocessing import PolynomialFeatures\n",
    "import seaborn as sns\n",
    "import matplotlib.pyplot as plt\n",
    "%matplotlib inline\n",
    "from warnings import filterwarnings\n",
    "filterwarnings(\"ignore\")"
   ]
  },
  {
   "cell_type": "markdown",
   "id": "b7d85d41-3fb8-43c6-b261-797a6c777ee2",
   "metadata": {},
   "source": [
    "#### 2.1.2  DATA PREPROCESSING\n",
    "The file from Kaggle contains data for 5000 customers. The detailed structure is shown in Table1. Data includes customer demographics (age, income, etc.), customer relationship with the bank (mortgage, securities account, etc.), and customer response to the last personal loan activity (personal loan). "
   ]
  },
  {
   "cell_type": "code",
   "execution_count": 2,
   "id": "23dd8260",
   "metadata": {
    "execution": {
     "iopub.execute_input": "2023-02-25T15:32:26.958566Z",
     "iopub.status.busy": "2023-02-25T15:32:26.958566Z",
     "iopub.status.idle": "2023-02-25T15:32:27.002004Z",
     "shell.execute_reply": "2023-02-25T15:32:27.002004Z",
     "shell.execute_reply.started": "2023-02-25T15:32:26.958566Z"
    },
    "papermill": {
     "duration": 0.125767,
     "end_time": "2022-02-05T16:50:39.695371",
     "exception": false,
     "start_time": "2022-02-05T16:50:39.569604",
     "status": "completed"
    },
    "tags": []
   },
   "outputs": [
    {
     "name": "stdout",
     "output_type": "stream",
     "text": [
      "Data shape: (5000, 14)\n"
     ]
    },
    {
     "data": {
      "text/html": [
       "<div>\n",
       "<style scoped>\n",
       "    .dataframe tbody tr th:only-of-type {\n",
       "        vertical-align: middle;\n",
       "    }\n",
       "\n",
       "    .dataframe tbody tr th {\n",
       "        vertical-align: top;\n",
       "    }\n",
       "\n",
       "    .dataframe thead th {\n",
       "        text-align: right;\n",
       "    }\n",
       "</style>\n",
       "<table border=\"1\" class=\"dataframe\">\n",
       "  <thead>\n",
       "    <tr style=\"text-align: right;\">\n",
       "      <th></th>\n",
       "      <th>ID</th>\n",
       "      <th>Age</th>\n",
       "      <th>Experience</th>\n",
       "      <th>Income</th>\n",
       "      <th>ZIP Code</th>\n",
       "      <th>Family</th>\n",
       "      <th>CCAvg</th>\n",
       "      <th>Education</th>\n",
       "      <th>Mortgage</th>\n",
       "      <th>Personal Loan</th>\n",
       "      <th>Securities Account</th>\n",
       "      <th>CD Account</th>\n",
       "      <th>Online</th>\n",
       "      <th>CreditCard</th>\n",
       "    </tr>\n",
       "  </thead>\n",
       "  <tbody>\n",
       "    <tr>\n",
       "      <th>0</th>\n",
       "      <td>1</td>\n",
       "      <td>25</td>\n",
       "      <td>1</td>\n",
       "      <td>49</td>\n",
       "      <td>91107</td>\n",
       "      <td>4</td>\n",
       "      <td>1.6</td>\n",
       "      <td>1</td>\n",
       "      <td>0</td>\n",
       "      <td>0</td>\n",
       "      <td>1</td>\n",
       "      <td>0</td>\n",
       "      <td>0</td>\n",
       "      <td>0</td>\n",
       "    </tr>\n",
       "    <tr>\n",
       "      <th>1</th>\n",
       "      <td>2</td>\n",
       "      <td>45</td>\n",
       "      <td>19</td>\n",
       "      <td>34</td>\n",
       "      <td>90089</td>\n",
       "      <td>3</td>\n",
       "      <td>1.5</td>\n",
       "      <td>1</td>\n",
       "      <td>0</td>\n",
       "      <td>0</td>\n",
       "      <td>1</td>\n",
       "      <td>0</td>\n",
       "      <td>0</td>\n",
       "      <td>0</td>\n",
       "    </tr>\n",
       "    <tr>\n",
       "      <th>2</th>\n",
       "      <td>3</td>\n",
       "      <td>39</td>\n",
       "      <td>15</td>\n",
       "      <td>11</td>\n",
       "      <td>94720</td>\n",
       "      <td>1</td>\n",
       "      <td>1.0</td>\n",
       "      <td>1</td>\n",
       "      <td>0</td>\n",
       "      <td>0</td>\n",
       "      <td>0</td>\n",
       "      <td>0</td>\n",
       "      <td>0</td>\n",
       "      <td>0</td>\n",
       "    </tr>\n",
       "    <tr>\n",
       "      <th>3</th>\n",
       "      <td>4</td>\n",
       "      <td>35</td>\n",
       "      <td>9</td>\n",
       "      <td>100</td>\n",
       "      <td>94112</td>\n",
       "      <td>1</td>\n",
       "      <td>2.7</td>\n",
       "      <td>2</td>\n",
       "      <td>0</td>\n",
       "      <td>0</td>\n",
       "      <td>0</td>\n",
       "      <td>0</td>\n",
       "      <td>0</td>\n",
       "      <td>0</td>\n",
       "    </tr>\n",
       "    <tr>\n",
       "      <th>4</th>\n",
       "      <td>5</td>\n",
       "      <td>35</td>\n",
       "      <td>8</td>\n",
       "      <td>45</td>\n",
       "      <td>91330</td>\n",
       "      <td>4</td>\n",
       "      <td>1.0</td>\n",
       "      <td>2</td>\n",
       "      <td>0</td>\n",
       "      <td>0</td>\n",
       "      <td>0</td>\n",
       "      <td>0</td>\n",
       "      <td>0</td>\n",
       "      <td>1</td>\n",
       "    </tr>\n",
       "  </tbody>\n",
       "</table>\n",
       "</div>"
      ],
      "text/plain": [
       "   ID  Age  Experience  Income  ZIP Code  Family  CCAvg  Education  Mortgage  \\\n",
       "0   1   25           1      49     91107       4    1.6          1         0   \n",
       "1   2   45          19      34     90089       3    1.5          1         0   \n",
       "2   3   39          15      11     94720       1    1.0          1         0   \n",
       "3   4   35           9     100     94112       1    2.7          2         0   \n",
       "4   5   35           8      45     91330       4    1.0          2         0   \n",
       "\n",
       "   Personal Loan  Securities Account  CD Account  Online  CreditCard  \n",
       "0              0                   1           0       0           0  \n",
       "1              0                   1           0       0           0  \n",
       "2              0                   0           0       0           0  \n",
       "3              0                   0           0       0           0  \n",
       "4              0                   0           0       0           1  "
      ]
     },
     "execution_count": 2,
     "metadata": {},
     "output_type": "execute_result"
    }
   ],
   "source": [
    "# Load data\n",
    "\n",
    "data0=pd.read_csv('Bank_Personal_Loan_Modelling.csv')\n",
    "print('Data shape:', data0.shape)\n",
    "data0.head()"
   ]
  },
  {
   "cell_type": "code",
   "execution_count": 3,
   "id": "4189319b-e81e-42df-bff6-f1c22396cba0",
   "metadata": {
    "execution": {
     "iopub.execute_input": "2023-02-25T15:32:27.006992Z",
     "iopub.status.busy": "2023-02-25T15:32:27.005006Z",
     "iopub.status.idle": "2023-02-25T15:32:27.032927Z",
     "shell.execute_reply": "2023-02-25T15:32:27.032060Z",
     "shell.execute_reply.started": "2023-02-25T15:32:27.006992Z"
    }
   },
   "outputs": [
    {
     "name": "stdout",
     "output_type": "stream",
     "text": [
      "<class 'pandas.core.frame.DataFrame'>\n",
      "RangeIndex: 5000 entries, 0 to 4999\n",
      "Data columns (total 14 columns):\n",
      " #   Column              Non-Null Count  Dtype  \n",
      "---  ------              --------------  -----  \n",
      " 0   ID                  5000 non-null   int64  \n",
      " 1   Age                 5000 non-null   int64  \n",
      " 2   Experience          5000 non-null   int64  \n",
      " 3   Income              5000 non-null   int64  \n",
      " 4   ZIP Code            5000 non-null   int64  \n",
      " 5   Family              5000 non-null   int64  \n",
      " 6   CCAvg               5000 non-null   float64\n",
      " 7   Education           5000 non-null   int64  \n",
      " 8   Mortgage            5000 non-null   int64  \n",
      " 9   Personal Loan       5000 non-null   int64  \n",
      " 10  Securities Account  5000 non-null   int64  \n",
      " 11  CD Account          5000 non-null   int64  \n",
      " 12  Online              5000 non-null   int64  \n",
      " 13  CreditCard          5000 non-null   int64  \n",
      "dtypes: float64(1), int64(13)\n",
      "memory usage: 547.0 KB\n"
     ]
    }
   ],
   "source": [
    "# Check the schema of the aataFrame\n",
    "data0.info()"
   ]
  },
  {
   "cell_type": "markdown",
   "id": "9268fc3f-77c1-4b5e-a81b-2f976863d2c3",
   "metadata": {},
   "source": [
    "Get the detail explanation of each column from dataset document\n",
    "\n",
    "|     Columns                 |     Description                                                                      |\n",
    "|-----------------------------|--------------------------------------------------------------------------------------|\n",
    "|     ID                      |     Customer   ID                                                                    |\n",
    "|     Age                     |     Customer's   age in completed years                                              |\n",
    "|     Experience              |     Number   of years of professional experience                                     |\n",
    "|     Income                  |     Annual   income of the customer (000)                                            |\n",
    "|     ZIPCode                 |     Home   Address ZIP code                                                          |\n",
    "|     Family                  |     Family   size of the customer                                                    |\n",
    "|     CCAvg                   |     Avg.   spending on credit cards per month (\\$  000)                              |\n",
    "|     Education               |     Education   Level. 1: Undergrad; 2: Graduate; 3: Advanced or Professional        |\n",
    "|     Mortgage                |     Value   of house mortgage if any. (\\$ 000)                                       |\n",
    "|     Personal   Loan         |     Did   this customer accept the personal loan offered in the last campaign?       |\n",
    "|     Securities   Account    |     Does   the customer have a securities account with the bank?                     |\n",
    "|     CD   Account            |     Does   the customer have a certificate of deposit (CD) account with the bank?    |\n",
    "|     Online                  |     Does   the customer use internet banking facilities?                             |\n",
    "|     CreditCard              |     Does   the customer use a credit card issued by this Bank?                       |"
   ]
  },
  {
   "cell_type": "code",
   "execution_count": 4,
   "id": "01faf2a1-07b6-42d5-9f1b-f3912bcf08f4",
   "metadata": {
    "execution": {
     "iopub.execute_input": "2023-02-25T15:32:27.035914Z",
     "iopub.status.busy": "2023-02-25T15:32:27.034953Z",
     "iopub.status.idle": "2023-02-25T15:32:27.092410Z",
     "shell.execute_reply": "2023-02-25T15:32:27.092410Z",
     "shell.execute_reply.started": "2023-02-25T15:32:27.035914Z"
    }
   },
   "outputs": [
    {
     "data": {
      "text/html": [
       "<div>\n",
       "<style scoped>\n",
       "    .dataframe tbody tr th:only-of-type {\n",
       "        vertical-align: middle;\n",
       "    }\n",
       "\n",
       "    .dataframe tbody tr th {\n",
       "        vertical-align: top;\n",
       "    }\n",
       "\n",
       "    .dataframe thead th {\n",
       "        text-align: right;\n",
       "    }\n",
       "</style>\n",
       "<table border=\"1\" class=\"dataframe\">\n",
       "  <thead>\n",
       "    <tr style=\"text-align: right;\">\n",
       "      <th></th>\n",
       "      <th>ID</th>\n",
       "      <th>Age</th>\n",
       "      <th>Experience</th>\n",
       "      <th>Income</th>\n",
       "      <th>ZIP Code</th>\n",
       "      <th>Family</th>\n",
       "      <th>CCAvg</th>\n",
       "      <th>Education</th>\n",
       "      <th>Mortgage</th>\n",
       "      <th>Personal Loan</th>\n",
       "      <th>Securities Account</th>\n",
       "      <th>CD Account</th>\n",
       "      <th>Online</th>\n",
       "      <th>CreditCard</th>\n",
       "    </tr>\n",
       "  </thead>\n",
       "  <tbody>\n",
       "    <tr>\n",
       "      <th>count</th>\n",
       "      <td>5000.000000</td>\n",
       "      <td>5000.000000</td>\n",
       "      <td>5000.000000</td>\n",
       "      <td>5000.000000</td>\n",
       "      <td>5000.000000</td>\n",
       "      <td>5000.000000</td>\n",
       "      <td>5000.000000</td>\n",
       "      <td>5000.000000</td>\n",
       "      <td>5000.000000</td>\n",
       "      <td>5000.000000</td>\n",
       "      <td>5000.000000</td>\n",
       "      <td>5000.00000</td>\n",
       "      <td>5000.000000</td>\n",
       "      <td>5000.000000</td>\n",
       "    </tr>\n",
       "    <tr>\n",
       "      <th>mean</th>\n",
       "      <td>2500.500000</td>\n",
       "      <td>45.338400</td>\n",
       "      <td>20.104600</td>\n",
       "      <td>73.774200</td>\n",
       "      <td>93152.503000</td>\n",
       "      <td>2.396400</td>\n",
       "      <td>1.937938</td>\n",
       "      <td>1.881000</td>\n",
       "      <td>56.498800</td>\n",
       "      <td>0.096000</td>\n",
       "      <td>0.104400</td>\n",
       "      <td>0.06040</td>\n",
       "      <td>0.596800</td>\n",
       "      <td>0.294000</td>\n",
       "    </tr>\n",
       "    <tr>\n",
       "      <th>std</th>\n",
       "      <td>1443.520003</td>\n",
       "      <td>11.463166</td>\n",
       "      <td>11.467954</td>\n",
       "      <td>46.033729</td>\n",
       "      <td>2121.852197</td>\n",
       "      <td>1.147663</td>\n",
       "      <td>1.747659</td>\n",
       "      <td>0.839869</td>\n",
       "      <td>101.713802</td>\n",
       "      <td>0.294621</td>\n",
       "      <td>0.305809</td>\n",
       "      <td>0.23825</td>\n",
       "      <td>0.490589</td>\n",
       "      <td>0.455637</td>\n",
       "    </tr>\n",
       "    <tr>\n",
       "      <th>min</th>\n",
       "      <td>1.000000</td>\n",
       "      <td>23.000000</td>\n",
       "      <td>-3.000000</td>\n",
       "      <td>8.000000</td>\n",
       "      <td>9307.000000</td>\n",
       "      <td>1.000000</td>\n",
       "      <td>0.000000</td>\n",
       "      <td>1.000000</td>\n",
       "      <td>0.000000</td>\n",
       "      <td>0.000000</td>\n",
       "      <td>0.000000</td>\n",
       "      <td>0.00000</td>\n",
       "      <td>0.000000</td>\n",
       "      <td>0.000000</td>\n",
       "    </tr>\n",
       "    <tr>\n",
       "      <th>25%</th>\n",
       "      <td>1250.750000</td>\n",
       "      <td>35.000000</td>\n",
       "      <td>10.000000</td>\n",
       "      <td>39.000000</td>\n",
       "      <td>91911.000000</td>\n",
       "      <td>1.000000</td>\n",
       "      <td>0.700000</td>\n",
       "      <td>1.000000</td>\n",
       "      <td>0.000000</td>\n",
       "      <td>0.000000</td>\n",
       "      <td>0.000000</td>\n",
       "      <td>0.00000</td>\n",
       "      <td>0.000000</td>\n",
       "      <td>0.000000</td>\n",
       "    </tr>\n",
       "    <tr>\n",
       "      <th>50%</th>\n",
       "      <td>2500.500000</td>\n",
       "      <td>45.000000</td>\n",
       "      <td>20.000000</td>\n",
       "      <td>64.000000</td>\n",
       "      <td>93437.000000</td>\n",
       "      <td>2.000000</td>\n",
       "      <td>1.500000</td>\n",
       "      <td>2.000000</td>\n",
       "      <td>0.000000</td>\n",
       "      <td>0.000000</td>\n",
       "      <td>0.000000</td>\n",
       "      <td>0.00000</td>\n",
       "      <td>1.000000</td>\n",
       "      <td>0.000000</td>\n",
       "    </tr>\n",
       "    <tr>\n",
       "      <th>75%</th>\n",
       "      <td>3750.250000</td>\n",
       "      <td>55.000000</td>\n",
       "      <td>30.000000</td>\n",
       "      <td>98.000000</td>\n",
       "      <td>94608.000000</td>\n",
       "      <td>3.000000</td>\n",
       "      <td>2.500000</td>\n",
       "      <td>3.000000</td>\n",
       "      <td>101.000000</td>\n",
       "      <td>0.000000</td>\n",
       "      <td>0.000000</td>\n",
       "      <td>0.00000</td>\n",
       "      <td>1.000000</td>\n",
       "      <td>1.000000</td>\n",
       "    </tr>\n",
       "    <tr>\n",
       "      <th>max</th>\n",
       "      <td>5000.000000</td>\n",
       "      <td>67.000000</td>\n",
       "      <td>43.000000</td>\n",
       "      <td>224.000000</td>\n",
       "      <td>96651.000000</td>\n",
       "      <td>4.000000</td>\n",
       "      <td>10.000000</td>\n",
       "      <td>3.000000</td>\n",
       "      <td>635.000000</td>\n",
       "      <td>1.000000</td>\n",
       "      <td>1.000000</td>\n",
       "      <td>1.00000</td>\n",
       "      <td>1.000000</td>\n",
       "      <td>1.000000</td>\n",
       "    </tr>\n",
       "  </tbody>\n",
       "</table>\n",
       "</div>"
      ],
      "text/plain": [
       "                ID          Age   Experience       Income      ZIP Code  \\\n",
       "count  5000.000000  5000.000000  5000.000000  5000.000000   5000.000000   \n",
       "mean   2500.500000    45.338400    20.104600    73.774200  93152.503000   \n",
       "std    1443.520003    11.463166    11.467954    46.033729   2121.852197   \n",
       "min       1.000000    23.000000    -3.000000     8.000000   9307.000000   \n",
       "25%    1250.750000    35.000000    10.000000    39.000000  91911.000000   \n",
       "50%    2500.500000    45.000000    20.000000    64.000000  93437.000000   \n",
       "75%    3750.250000    55.000000    30.000000    98.000000  94608.000000   \n",
       "max    5000.000000    67.000000    43.000000   224.000000  96651.000000   \n",
       "\n",
       "            Family        CCAvg    Education     Mortgage  Personal Loan  \\\n",
       "count  5000.000000  5000.000000  5000.000000  5000.000000    5000.000000   \n",
       "mean      2.396400     1.937938     1.881000    56.498800       0.096000   \n",
       "std       1.147663     1.747659     0.839869   101.713802       0.294621   \n",
       "min       1.000000     0.000000     1.000000     0.000000       0.000000   \n",
       "25%       1.000000     0.700000     1.000000     0.000000       0.000000   \n",
       "50%       2.000000     1.500000     2.000000     0.000000       0.000000   \n",
       "75%       3.000000     2.500000     3.000000   101.000000       0.000000   \n",
       "max       4.000000    10.000000     3.000000   635.000000       1.000000   \n",
       "\n",
       "       Securities Account  CD Account       Online   CreditCard  \n",
       "count         5000.000000  5000.00000  5000.000000  5000.000000  \n",
       "mean             0.104400     0.06040     0.596800     0.294000  \n",
       "std              0.305809     0.23825     0.490589     0.455637  \n",
       "min              0.000000     0.00000     0.000000     0.000000  \n",
       "25%              0.000000     0.00000     0.000000     0.000000  \n",
       "50%              0.000000     0.00000     1.000000     0.000000  \n",
       "75%              0.000000     0.00000     1.000000     1.000000  \n",
       "max              1.000000     1.00000     1.000000     1.000000  "
      ]
     },
     "execution_count": 4,
     "metadata": {},
     "output_type": "execute_result"
    }
   ],
   "source": [
    "# Check the basic statistics of each column\n",
    "data0.describe()"
   ]
  },
  {
   "cell_type": "markdown",
   "id": "09491d53",
   "metadata": {
    "papermill": {
     "duration": 0.049741,
     "end_time": "2022-02-05T16:50:39.795524",
     "exception": false,
     "start_time": "2022-02-05T16:50:39.745783",
     "status": "completed"
    },
    "tags": []
   },
   "source": [
    "##### Observations\n",
    "\n",
    "The ID column in the dataset is a unique number for each customer. And the zip code in the data lists the zip code of the customer's city. So, there is no relationship between the ID column or the zip code column and any other variable. It's necessary to leave them out of the classification model to prevent misdirection. \n",
    "\n"
   ]
  },
  {
   "cell_type": "code",
   "execution_count": 5,
   "id": "7575b993",
   "metadata": {
    "execution": {
     "iopub.execute_input": "2023-02-25T15:32:27.094372Z",
     "iopub.status.busy": "2023-02-25T15:32:27.094372Z",
     "iopub.status.idle": "2023-02-25T15:32:27.107348Z",
     "shell.execute_reply": "2023-02-25T15:32:27.107348Z",
     "shell.execute_reply.started": "2023-02-25T15:32:27.094372Z"
    },
    "papermill": {
     "duration": 0.081508,
     "end_time": "2022-02-05T16:50:39.928370",
     "exception": false,
     "start_time": "2022-02-05T16:50:39.846862",
     "status": "completed"
    },
    "tags": []
   },
   "outputs": [
    {
     "name": "stdout",
     "output_type": "stream",
     "text": [
      "<class 'pandas.core.frame.DataFrame'>\n",
      "RangeIndex: 5000 entries, 0 to 4999\n",
      "Data columns (total 12 columns):\n",
      " #   Column              Non-Null Count  Dtype  \n",
      "---  ------              --------------  -----  \n",
      " 0   Age                 5000 non-null   int64  \n",
      " 1   Experience          5000 non-null   int64  \n",
      " 2   Income              5000 non-null   int64  \n",
      " 3   Family              5000 non-null   int64  \n",
      " 4   CCAvg               5000 non-null   float64\n",
      " 5   Education           5000 non-null   int64  \n",
      " 6   Mortgage            5000 non-null   int64  \n",
      " 7   Personal Loan       5000 non-null   int64  \n",
      " 8   Securities Account  5000 non-null   int64  \n",
      " 9   CD Account          5000 non-null   int64  \n",
      " 10  Online              5000 non-null   int64  \n",
      " 11  CreditCard          5000 non-null   int64  \n",
      "dtypes: float64(1), int64(11)\n",
      "memory usage: 468.9 KB\n"
     ]
    }
   ],
   "source": [
    "# Drop coulmns operation\n",
    "data1 = data0.drop(['ID', 'ZIP Code'], axis = 1, inplace=False)\n",
    "data1.info()"
   ]
  },
  {
   "cell_type": "code",
   "execution_count": 6,
   "id": "0edba2fa",
   "metadata": {
    "execution": {
     "iopub.execute_input": "2023-02-25T15:32:27.108336Z",
     "iopub.status.busy": "2023-02-25T15:32:27.108336Z",
     "iopub.status.idle": "2023-02-25T15:32:27.153216Z",
     "shell.execute_reply": "2023-02-25T15:32:27.152218Z",
     "shell.execute_reply.started": "2023-02-25T15:32:27.108336Z"
    },
    "papermill": {
     "duration": 0.108338,
     "end_time": "2022-02-05T16:50:40.087273",
     "exception": false,
     "start_time": "2022-02-05T16:50:39.978935",
     "status": "completed"
    },
    "tags": []
   },
   "outputs": [
    {
     "data": {
      "text/html": [
       "<div>\n",
       "<style scoped>\n",
       "    .dataframe tbody tr th:only-of-type {\n",
       "        vertical-align: middle;\n",
       "    }\n",
       "\n",
       "    .dataframe tbody tr th {\n",
       "        vertical-align: top;\n",
       "    }\n",
       "\n",
       "    .dataframe thead th {\n",
       "        text-align: right;\n",
       "    }\n",
       "</style>\n",
       "<table border=\"1\" class=\"dataframe\">\n",
       "  <thead>\n",
       "    <tr style=\"text-align: right;\">\n",
       "      <th></th>\n",
       "      <th>Age</th>\n",
       "      <th>Experience</th>\n",
       "      <th>Income</th>\n",
       "      <th>Family</th>\n",
       "      <th>CCAvg</th>\n",
       "      <th>Education</th>\n",
       "      <th>Mortgage</th>\n",
       "      <th>Personal Loan</th>\n",
       "      <th>Securities Account</th>\n",
       "      <th>CD Account</th>\n",
       "      <th>Online</th>\n",
       "      <th>CreditCard</th>\n",
       "    </tr>\n",
       "  </thead>\n",
       "  <tbody>\n",
       "    <tr>\n",
       "      <th>count</th>\n",
       "      <td>5000.000000</td>\n",
       "      <td>5000.000000</td>\n",
       "      <td>5000.000000</td>\n",
       "      <td>5000.000000</td>\n",
       "      <td>5000.000000</td>\n",
       "      <td>5000.000000</td>\n",
       "      <td>5000.000000</td>\n",
       "      <td>5000.000000</td>\n",
       "      <td>5000.000000</td>\n",
       "      <td>5000.00000</td>\n",
       "      <td>5000.000000</td>\n",
       "      <td>5000.000000</td>\n",
       "    </tr>\n",
       "    <tr>\n",
       "      <th>mean</th>\n",
       "      <td>45.338400</td>\n",
       "      <td>20.104600</td>\n",
       "      <td>73.774200</td>\n",
       "      <td>2.396400</td>\n",
       "      <td>1.937938</td>\n",
       "      <td>1.881000</td>\n",
       "      <td>56.498800</td>\n",
       "      <td>0.096000</td>\n",
       "      <td>0.104400</td>\n",
       "      <td>0.06040</td>\n",
       "      <td>0.596800</td>\n",
       "      <td>0.294000</td>\n",
       "    </tr>\n",
       "    <tr>\n",
       "      <th>std</th>\n",
       "      <td>11.463166</td>\n",
       "      <td>11.467954</td>\n",
       "      <td>46.033729</td>\n",
       "      <td>1.147663</td>\n",
       "      <td>1.747659</td>\n",
       "      <td>0.839869</td>\n",
       "      <td>101.713802</td>\n",
       "      <td>0.294621</td>\n",
       "      <td>0.305809</td>\n",
       "      <td>0.23825</td>\n",
       "      <td>0.490589</td>\n",
       "      <td>0.455637</td>\n",
       "    </tr>\n",
       "    <tr>\n",
       "      <th>min</th>\n",
       "      <td>23.000000</td>\n",
       "      <td>-3.000000</td>\n",
       "      <td>8.000000</td>\n",
       "      <td>1.000000</td>\n",
       "      <td>0.000000</td>\n",
       "      <td>1.000000</td>\n",
       "      <td>0.000000</td>\n",
       "      <td>0.000000</td>\n",
       "      <td>0.000000</td>\n",
       "      <td>0.00000</td>\n",
       "      <td>0.000000</td>\n",
       "      <td>0.000000</td>\n",
       "    </tr>\n",
       "    <tr>\n",
       "      <th>25%</th>\n",
       "      <td>35.000000</td>\n",
       "      <td>10.000000</td>\n",
       "      <td>39.000000</td>\n",
       "      <td>1.000000</td>\n",
       "      <td>0.700000</td>\n",
       "      <td>1.000000</td>\n",
       "      <td>0.000000</td>\n",
       "      <td>0.000000</td>\n",
       "      <td>0.000000</td>\n",
       "      <td>0.00000</td>\n",
       "      <td>0.000000</td>\n",
       "      <td>0.000000</td>\n",
       "    </tr>\n",
       "    <tr>\n",
       "      <th>50%</th>\n",
       "      <td>45.000000</td>\n",
       "      <td>20.000000</td>\n",
       "      <td>64.000000</td>\n",
       "      <td>2.000000</td>\n",
       "      <td>1.500000</td>\n",
       "      <td>2.000000</td>\n",
       "      <td>0.000000</td>\n",
       "      <td>0.000000</td>\n",
       "      <td>0.000000</td>\n",
       "      <td>0.00000</td>\n",
       "      <td>1.000000</td>\n",
       "      <td>0.000000</td>\n",
       "    </tr>\n",
       "    <tr>\n",
       "      <th>75%</th>\n",
       "      <td>55.000000</td>\n",
       "      <td>30.000000</td>\n",
       "      <td>98.000000</td>\n",
       "      <td>3.000000</td>\n",
       "      <td>2.500000</td>\n",
       "      <td>3.000000</td>\n",
       "      <td>101.000000</td>\n",
       "      <td>0.000000</td>\n",
       "      <td>0.000000</td>\n",
       "      <td>0.00000</td>\n",
       "      <td>1.000000</td>\n",
       "      <td>1.000000</td>\n",
       "    </tr>\n",
       "    <tr>\n",
       "      <th>max</th>\n",
       "      <td>67.000000</td>\n",
       "      <td>43.000000</td>\n",
       "      <td>224.000000</td>\n",
       "      <td>4.000000</td>\n",
       "      <td>10.000000</td>\n",
       "      <td>3.000000</td>\n",
       "      <td>635.000000</td>\n",
       "      <td>1.000000</td>\n",
       "      <td>1.000000</td>\n",
       "      <td>1.00000</td>\n",
       "      <td>1.000000</td>\n",
       "      <td>1.000000</td>\n",
       "    </tr>\n",
       "  </tbody>\n",
       "</table>\n",
       "</div>"
      ],
      "text/plain": [
       "               Age   Experience       Income       Family        CCAvg  \\\n",
       "count  5000.000000  5000.000000  5000.000000  5000.000000  5000.000000   \n",
       "mean     45.338400    20.104600    73.774200     2.396400     1.937938   \n",
       "std      11.463166    11.467954    46.033729     1.147663     1.747659   \n",
       "min      23.000000    -3.000000     8.000000     1.000000     0.000000   \n",
       "25%      35.000000    10.000000    39.000000     1.000000     0.700000   \n",
       "50%      45.000000    20.000000    64.000000     2.000000     1.500000   \n",
       "75%      55.000000    30.000000    98.000000     3.000000     2.500000   \n",
       "max      67.000000    43.000000   224.000000     4.000000    10.000000   \n",
       "\n",
       "         Education     Mortgage  Personal Loan  Securities Account  \\\n",
       "count  5000.000000  5000.000000    5000.000000         5000.000000   \n",
       "mean      1.881000    56.498800       0.096000            0.104400   \n",
       "std       0.839869   101.713802       0.294621            0.305809   \n",
       "min       1.000000     0.000000       0.000000            0.000000   \n",
       "25%       1.000000     0.000000       0.000000            0.000000   \n",
       "50%       2.000000     0.000000       0.000000            0.000000   \n",
       "75%       3.000000   101.000000       0.000000            0.000000   \n",
       "max       3.000000   635.000000       1.000000            1.000000   \n",
       "\n",
       "       CD Account       Online   CreditCard  \n",
       "count  5000.00000  5000.000000  5000.000000  \n",
       "mean      0.06040     0.596800     0.294000  \n",
       "std       0.23825     0.490589     0.455637  \n",
       "min       0.00000     0.000000     0.000000  \n",
       "25%       0.00000     0.000000     0.000000  \n",
       "50%       0.00000     1.000000     0.000000  \n",
       "75%       0.00000     1.000000     1.000000  \n",
       "max       1.00000     1.000000     1.000000  "
      ]
     },
     "execution_count": 6,
     "metadata": {},
     "output_type": "execute_result"
    }
   ],
   "source": [
    "# Check the basic statistics of each column for the new dataset\n",
    "data1.describe()"
   ]
  },
  {
   "cell_type": "code",
   "execution_count": 7,
   "id": "0af55411-e5c2-4410-843d-0aff584b4be5",
   "metadata": {
    "execution": {
     "iopub.execute_input": "2023-02-25T15:32:27.154213Z",
     "iopub.status.busy": "2023-02-25T15:32:27.154213Z",
     "iopub.status.idle": "2023-02-25T15:32:27.168342Z",
     "shell.execute_reply": "2023-02-25T15:32:27.167475Z",
     "shell.execute_reply.started": "2023-02-25T15:32:27.154213Z"
    }
   },
   "outputs": [
    {
     "data": {
      "text/plain": [
       "52"
      ]
     },
     "execution_count": 7,
     "metadata": {},
     "output_type": "execute_result"
    }
   ],
   "source": [
    "# Check the number of records with negative experience\n",
    "\n",
    "np.sum([data1[\"Experience\"] < 0])"
   ]
  },
  {
   "cell_type": "markdown",
   "id": "73399761",
   "metadata": {
    "papermill": {
     "duration": 0.051447,
     "end_time": "2022-02-05T16:50:40.190676",
     "exception": false,
     "start_time": "2022-02-05T16:50:40.139229",
     "status": "completed"
    },
    "tags": []
   },
   "source": [
    "##### Observations\n",
    "* we can see in the describe cell above\n",
    "* the min value of Experience columns is (-3)\n",
    "* but we knowe the Experience values must be possitive\n",
    "* there are 52 observations with negative Experience\n",
    "* we will remove the records with negative Experience"
   ]
  },
  {
   "cell_type": "code",
   "execution_count": 8,
   "id": "fa4802ce-f2bc-4f8d-a8bd-466a3964489d",
   "metadata": {
    "execution": {
     "iopub.execute_input": "2023-02-25T15:32:27.170169Z",
     "iopub.status.busy": "2023-02-25T15:32:27.170169Z",
     "iopub.status.idle": "2023-02-25T15:32:27.183135Z",
     "shell.execute_reply": "2023-02-25T15:32:27.182196Z",
     "shell.execute_reply.started": "2023-02-25T15:32:27.170169Z"
    },
    "papermill": {
     "duration": 0.106392,
     "end_time": "2022-02-05T16:50:40.349491",
     "exception": false,
     "start_time": "2022-02-05T16:50:40.243099",
     "status": "completed"
    },
    "tags": []
   },
   "outputs": [],
   "source": [
    "# Exclude the records with negative Experience value.\n",
    "data2 = data1.loc[data1[\"Experience\"] >= 0]"
   ]
  },
  {
   "cell_type": "markdown",
   "id": "7ca051da-45ed-4eed-8526-0e641b6f09d4",
   "metadata": {
    "tags": []
   },
   "source": [
    "### 2.2 DATA EXPLORATION"
   ]
  },
  {
   "cell_type": "markdown",
   "id": "eb1855fc-0413-4613-bf63-c1df7d1cccfb",
   "metadata": {
    "tags": []
   },
   "source": [
    "#### 2.2.1 Check the distribution of each variable"
   ]
  },
  {
   "cell_type": "code",
   "execution_count": 9,
   "id": "d78c92ff-913b-49e0-820c-3927c5fd5730",
   "metadata": {
    "execution": {
     "iopub.execute_input": "2023-02-25T15:32:27.184675Z",
     "iopub.status.busy": "2023-02-25T15:32:27.184132Z",
     "iopub.status.idle": "2023-02-25T15:32:27.242759Z",
     "shell.execute_reply": "2023-02-25T15:32:27.242646Z",
     "shell.execute_reply.started": "2023-02-25T15:32:27.184675Z"
    },
    "papermill": {
     "duration": 0.106392,
     "end_time": "2022-02-05T16:50:40.349491",
     "exception": false,
     "start_time": "2022-02-05T16:50:40.243099",
     "status": "completed"
    },
    "tags": []
   },
   "outputs": [
    {
     "data": {
      "text/html": [
       "<div>\n",
       "<style scoped>\n",
       "    .dataframe tbody tr th:only-of-type {\n",
       "        vertical-align: middle;\n",
       "    }\n",
       "\n",
       "    .dataframe tbody tr th {\n",
       "        vertical-align: top;\n",
       "    }\n",
       "\n",
       "    .dataframe thead th {\n",
       "        text-align: right;\n",
       "    }\n",
       "</style>\n",
       "<table border=\"1\" class=\"dataframe\">\n",
       "  <thead>\n",
       "    <tr style=\"text-align: right;\">\n",
       "      <th></th>\n",
       "      <th>Age</th>\n",
       "      <th>Experience</th>\n",
       "      <th>Income</th>\n",
       "      <th>Family</th>\n",
       "      <th>CCAvg</th>\n",
       "      <th>Education</th>\n",
       "      <th>Mortgage</th>\n",
       "      <th>Personal Loan</th>\n",
       "      <th>Securities Account</th>\n",
       "      <th>CD Account</th>\n",
       "      <th>Online</th>\n",
       "      <th>CreditCard</th>\n",
       "    </tr>\n",
       "  </thead>\n",
       "  <tbody>\n",
       "    <tr>\n",
       "      <th>count</th>\n",
       "      <td>4948.000000</td>\n",
       "      <td>4948.000000</td>\n",
       "      <td>4948.000000</td>\n",
       "      <td>4948.000000</td>\n",
       "      <td>4948.000000</td>\n",
       "      <td>4948.000000</td>\n",
       "      <td>4948.000000</td>\n",
       "      <td>4948.000000</td>\n",
       "      <td>4948.000000</td>\n",
       "      <td>4948.000000</td>\n",
       "      <td>4948.000000</td>\n",
       "      <td>4948.000000</td>\n",
       "    </tr>\n",
       "    <tr>\n",
       "      <th>mean</th>\n",
       "      <td>45.557195</td>\n",
       "      <td>20.331043</td>\n",
       "      <td>73.814470</td>\n",
       "      <td>2.391471</td>\n",
       "      <td>1.935926</td>\n",
       "      <td>1.878941</td>\n",
       "      <td>56.634398</td>\n",
       "      <td>0.097009</td>\n",
       "      <td>0.104285</td>\n",
       "      <td>0.061035</td>\n",
       "      <td>0.597009</td>\n",
       "      <td>0.294058</td>\n",
       "    </tr>\n",
       "    <tr>\n",
       "      <th>std</th>\n",
       "      <td>11.320735</td>\n",
       "      <td>11.311973</td>\n",
       "      <td>46.112596</td>\n",
       "      <td>1.148444</td>\n",
       "      <td>1.747694</td>\n",
       "      <td>0.839745</td>\n",
       "      <td>101.828885</td>\n",
       "      <td>0.296000</td>\n",
       "      <td>0.305660</td>\n",
       "      <td>0.239418</td>\n",
       "      <td>0.490549</td>\n",
       "      <td>0.455664</td>\n",
       "    </tr>\n",
       "    <tr>\n",
       "      <th>min</th>\n",
       "      <td>24.000000</td>\n",
       "      <td>0.000000</td>\n",
       "      <td>8.000000</td>\n",
       "      <td>1.000000</td>\n",
       "      <td>0.000000</td>\n",
       "      <td>1.000000</td>\n",
       "      <td>0.000000</td>\n",
       "      <td>0.000000</td>\n",
       "      <td>0.000000</td>\n",
       "      <td>0.000000</td>\n",
       "      <td>0.000000</td>\n",
       "      <td>0.000000</td>\n",
       "    </tr>\n",
       "    <tr>\n",
       "      <th>25%</th>\n",
       "      <td>36.000000</td>\n",
       "      <td>10.750000</td>\n",
       "      <td>39.000000</td>\n",
       "      <td>1.000000</td>\n",
       "      <td>0.700000</td>\n",
       "      <td>1.000000</td>\n",
       "      <td>0.000000</td>\n",
       "      <td>0.000000</td>\n",
       "      <td>0.000000</td>\n",
       "      <td>0.000000</td>\n",
       "      <td>0.000000</td>\n",
       "      <td>0.000000</td>\n",
       "    </tr>\n",
       "    <tr>\n",
       "      <th>50%</th>\n",
       "      <td>46.000000</td>\n",
       "      <td>20.000000</td>\n",
       "      <td>64.000000</td>\n",
       "      <td>2.000000</td>\n",
       "      <td>1.500000</td>\n",
       "      <td>2.000000</td>\n",
       "      <td>0.000000</td>\n",
       "      <td>0.000000</td>\n",
       "      <td>0.000000</td>\n",
       "      <td>0.000000</td>\n",
       "      <td>1.000000</td>\n",
       "      <td>0.000000</td>\n",
       "    </tr>\n",
       "    <tr>\n",
       "      <th>75%</th>\n",
       "      <td>55.000000</td>\n",
       "      <td>30.000000</td>\n",
       "      <td>98.000000</td>\n",
       "      <td>3.000000</td>\n",
       "      <td>2.600000</td>\n",
       "      <td>3.000000</td>\n",
       "      <td>101.000000</td>\n",
       "      <td>0.000000</td>\n",
       "      <td>0.000000</td>\n",
       "      <td>0.000000</td>\n",
       "      <td>1.000000</td>\n",
       "      <td>1.000000</td>\n",
       "    </tr>\n",
       "    <tr>\n",
       "      <th>max</th>\n",
       "      <td>67.000000</td>\n",
       "      <td>43.000000</td>\n",
       "      <td>224.000000</td>\n",
       "      <td>4.000000</td>\n",
       "      <td>10.000000</td>\n",
       "      <td>3.000000</td>\n",
       "      <td>635.000000</td>\n",
       "      <td>1.000000</td>\n",
       "      <td>1.000000</td>\n",
       "      <td>1.000000</td>\n",
       "      <td>1.000000</td>\n",
       "      <td>1.000000</td>\n",
       "    </tr>\n",
       "  </tbody>\n",
       "</table>\n",
       "</div>"
      ],
      "text/plain": [
       "               Age   Experience       Income       Family        CCAvg  \\\n",
       "count  4948.000000  4948.000000  4948.000000  4948.000000  4948.000000   \n",
       "mean     45.557195    20.331043    73.814470     2.391471     1.935926   \n",
       "std      11.320735    11.311973    46.112596     1.148444     1.747694   \n",
       "min      24.000000     0.000000     8.000000     1.000000     0.000000   \n",
       "25%      36.000000    10.750000    39.000000     1.000000     0.700000   \n",
       "50%      46.000000    20.000000    64.000000     2.000000     1.500000   \n",
       "75%      55.000000    30.000000    98.000000     3.000000     2.600000   \n",
       "max      67.000000    43.000000   224.000000     4.000000    10.000000   \n",
       "\n",
       "         Education     Mortgage  Personal Loan  Securities Account  \\\n",
       "count  4948.000000  4948.000000    4948.000000         4948.000000   \n",
       "mean      1.878941    56.634398       0.097009            0.104285   \n",
       "std       0.839745   101.828885       0.296000            0.305660   \n",
       "min       1.000000     0.000000       0.000000            0.000000   \n",
       "25%       1.000000     0.000000       0.000000            0.000000   \n",
       "50%       2.000000     0.000000       0.000000            0.000000   \n",
       "75%       3.000000   101.000000       0.000000            0.000000   \n",
       "max       3.000000   635.000000       1.000000            1.000000   \n",
       "\n",
       "        CD Account       Online   CreditCard  \n",
       "count  4948.000000  4948.000000  4948.000000  \n",
       "mean      0.061035     0.597009     0.294058  \n",
       "std       0.239418     0.490549     0.455664  \n",
       "min       0.000000     0.000000     0.000000  \n",
       "25%       0.000000     0.000000     0.000000  \n",
       "50%       0.000000     1.000000     0.000000  \n",
       "75%       0.000000     1.000000     1.000000  \n",
       "max       1.000000     1.000000     1.000000  "
      ]
     },
     "execution_count": 9,
     "metadata": {},
     "output_type": "execute_result"
    }
   ],
   "source": [
    "# Check the distribution of the new data\n",
    "\n",
    "data2.describe()"
   ]
  },
  {
   "cell_type": "markdown",
   "id": "20beb944-e423-4ef1-8ff5-90498fc335e7",
   "metadata": {
    "tags": []
   },
   "source": [
    "##### Observations\n",
    "\n",
    "* There are no null or (NaN) values in the dataset. \n",
    "* The dataset has a mix of numeric and categorical attributes, but all categorical data is represented numerically. \n",
    "* Also, some predictors are heavily skewed (long-tailed), \n",
    "\n"
   ]
  },
  {
   "cell_type": "markdown",
   "id": "8026188d-ebc2-41bb-bdff-ff63edd30e53",
   "metadata": {},
   "source": [
    "#### 2.2.2 Check the Correlation of each variable"
   ]
  },
  {
   "cell_type": "code",
   "execution_count": 10,
   "id": "4c711487",
   "metadata": {
    "execution": {
     "iopub.execute_input": "2023-02-25T15:32:27.243526Z",
     "iopub.status.busy": "2023-02-25T15:32:27.243526Z",
     "iopub.status.idle": "2023-02-25T15:32:28.758609Z",
     "shell.execute_reply": "2023-02-25T15:32:28.758609Z",
     "shell.execute_reply.started": "2023-02-25T15:32:27.243526Z"
    },
    "papermill": {
     "duration": 1.503611,
     "end_time": "2022-02-05T16:50:42.275454",
     "exception": false,
     "start_time": "2022-02-05T16:50:40.771843",
     "status": "completed"
    },
    "tags": []
   },
   "outputs": [
    {
     "data": {
      "text/plain": [
       "<function matplotlib.pyplot.show(close=None, block=None)>"
      ]
     },
     "execution_count": 10,
     "metadata": {},
     "output_type": "execute_result"
    },
    {
     "data": {
      "image/png": "[encoded data removed]",
      "text/plain": [
       "<Figure size 720x720 with 2 Axes>"
      ]
     },
     "metadata": {
      "needs_background": "light"
     },
     "output_type": "display_data"
    }
   ],
   "source": [
    "# Check the Correlation of each variable\n",
    "\n",
    "\n",
    "fig, ax = plt.subplots(figsize = (10, 10))\n",
    "sns.heatmap(data2.corr(),cmap='BuPu',cbar=True,annot=True,linewidths=0.5,ax=ax)\n",
    "plt.show"
   ]
  },
  {
   "cell_type": "markdown",
   "id": "f8a56e62",
   "metadata": {
    "papermill": {
     "duration": 0.057313,
     "end_time": "2022-02-05T16:50:42.391056",
     "exception": false,
     "start_time": "2022-02-05T16:50:42.333743",
     "status": "completed"
    },
    "tags": []
   },
   "source": [
    "##### Observation\n",
    "* 'Age' and 'Experience' are correlated with each other.\n",
    "\n",
    "* 'Income' and ‘CCAvg' correlated with each other.\n",
    " \n",
    "* 'CD Account' has a correlation with 'Credit Card', 'Securities Account', 'Online', ‘CCAvg' and 'Income'.\n",
    " \n",
    "* 'Personal Loan' has correlation with 'Income’, 'CCAvg', 'CD Account', 'Mortgage', and 'Education'.\n",
    " \n",
    "* 'Mortgage' has moderate correlation with 'Income'\n",
    " \n",
    "* 'Income' influences ‘CCAvg', 'Personal Loan', 'CD Account' and 'Mortgage'."
   ]
  },
  {
   "cell_type": "markdown",
   "id": "fc842864-4ca9-4cfd-8983-5bca9209b0bf",
   "metadata": {
    "tags": []
   },
   "source": [
    "# 3. MODELING AND EVALUATION\n",
    "\n",
    "**In this work we will practice 2 kinds of algorithms**\n",
    "**and see which algorithm has higher AUC**\n",
    "* LogisticRegression\n",
    "* RandomForestClassifier"
   ]
  },
  {
   "cell_type": "markdown",
   "id": "2c9a8135",
   "metadata": {
    "papermill": {
     "duration": 0.075736,
     "end_time": "2022-02-05T16:50:49.003102",
     "exception": false,
     "start_time": "2022-02-05T16:50:48.927366",
     "status": "completed"
    },
    "tags": []
   },
   "source": [
    "## 3.1  Spliting the data into training and test set in the ratio of 70:30**"
   ]
  },
  {
   "cell_type": "code",
   "execution_count": 11,
   "id": "1a8f4f7b-d33a-4e58-8d46-75a995e526c5",
   "metadata": {
    "execution": {
     "iopub.execute_input": "2023-02-25T15:32:28.759608Z",
     "iopub.status.busy": "2023-02-25T15:32:28.759608Z",
     "iopub.status.idle": "2023-02-25T15:32:28.773571Z",
     "shell.execute_reply": "2023-02-25T15:32:28.773571Z",
     "shell.execute_reply.started": "2023-02-25T15:32:28.759608Z"
    }
   },
   "outputs": [
    {
     "data": {
      "text/plain": [
       "(3463, 11)"
      ]
     },
     "execution_count": 11,
     "metadata": {},
     "output_type": "execute_result"
    }
   ],
   "source": [
    "# X = data2.drop('Personal Loan', axis = 1).values\n",
    "X = data2.drop('Personal Loan', axis = 1)\n",
    "y = data2['Personal Loan'].values.reshape((-1, 1))\n",
    "X_train, X_test, y_train, y_test = train_test_split(X, y, test_size=0.30, random_state=1)\n",
    "\n",
    "X_train.shape"
   ]
  },
  {
   "cell_type": "code",
   "execution_count": 12,
   "id": "dd4e817b-ed7e-4fee-8ebc-22ea908b6112",
   "metadata": {
    "execution": {
     "iopub.execute_input": "2023-02-25T15:32:28.777559Z",
     "iopub.status.busy": "2023-02-25T15:32:28.777559Z",
     "iopub.status.idle": "2023-02-25T15:32:28.788559Z",
     "shell.execute_reply": "2023-02-25T15:32:28.788559Z",
     "shell.execute_reply.started": "2023-02-25T15:32:28.777559Z"
    }
   },
   "outputs": [
    {
     "data": {
      "text/html": [
       "<div>\n",
       "<style scoped>\n",
       "    .dataframe tbody tr th:only-of-type {\n",
       "        vertical-align: middle;\n",
       "    }\n",
       "\n",
       "    .dataframe tbody tr th {\n",
       "        vertical-align: top;\n",
       "    }\n",
       "\n",
       "    .dataframe thead th {\n",
       "        text-align: right;\n",
       "    }\n",
       "</style>\n",
       "<table border=\"1\" class=\"dataframe\">\n",
       "  <thead>\n",
       "    <tr style=\"text-align: right;\">\n",
       "      <th></th>\n",
       "      <th>Age</th>\n",
       "      <th>Experience</th>\n",
       "      <th>Income</th>\n",
       "      <th>Family</th>\n",
       "      <th>CCAvg</th>\n",
       "      <th>Education</th>\n",
       "      <th>Mortgage</th>\n",
       "      <th>Securities Account</th>\n",
       "      <th>CD Account</th>\n",
       "      <th>Online</th>\n",
       "      <th>CreditCard</th>\n",
       "    </tr>\n",
       "  </thead>\n",
       "  <tbody>\n",
       "    <tr>\n",
       "      <th>3395</th>\n",
       "      <td>41</td>\n",
       "      <td>16</td>\n",
       "      <td>35</td>\n",
       "      <td>2</td>\n",
       "      <td>1.4</td>\n",
       "      <td>2</td>\n",
       "      <td>135</td>\n",
       "      <td>0</td>\n",
       "      <td>0</td>\n",
       "      <td>0</td>\n",
       "      <td>0</td>\n",
       "    </tr>\n",
       "    <tr>\n",
       "      <th>370</th>\n",
       "      <td>36</td>\n",
       "      <td>12</td>\n",
       "      <td>25</td>\n",
       "      <td>4</td>\n",
       "      <td>1.0</td>\n",
       "      <td>1</td>\n",
       "      <td>147</td>\n",
       "      <td>0</td>\n",
       "      <td>0</td>\n",
       "      <td>0</td>\n",
       "      <td>0</td>\n",
       "    </tr>\n",
       "    <tr>\n",
       "      <th>2337</th>\n",
       "      <td>43</td>\n",
       "      <td>16</td>\n",
       "      <td>201</td>\n",
       "      <td>1</td>\n",
       "      <td>10.0</td>\n",
       "      <td>2</td>\n",
       "      <td>0</td>\n",
       "      <td>0</td>\n",
       "      <td>0</td>\n",
       "      <td>0</td>\n",
       "      <td>1</td>\n",
       "    </tr>\n",
       "    <tr>\n",
       "      <th>3341</th>\n",
       "      <td>35</td>\n",
       "      <td>9</td>\n",
       "      <td>33</td>\n",
       "      <td>2</td>\n",
       "      <td>0.3</td>\n",
       "      <td>1</td>\n",
       "      <td>0</td>\n",
       "      <td>1</td>\n",
       "      <td>0</td>\n",
       "      <td>1</td>\n",
       "      <td>0</td>\n",
       "    </tr>\n",
       "    <tr>\n",
       "      <th>3602</th>\n",
       "      <td>47</td>\n",
       "      <td>21</td>\n",
       "      <td>42</td>\n",
       "      <td>4</td>\n",
       "      <td>0.1</td>\n",
       "      <td>1</td>\n",
       "      <td>0</td>\n",
       "      <td>0</td>\n",
       "      <td>0</td>\n",
       "      <td>1</td>\n",
       "      <td>1</td>\n",
       "    </tr>\n",
       "  </tbody>\n",
       "</table>\n",
       "</div>"
      ],
      "text/plain": [
       "      Age  Experience  Income  Family  CCAvg  Education  Mortgage  \\\n",
       "3395   41          16      35       2    1.4          2       135   \n",
       "370    36          12      25       4    1.0          1       147   \n",
       "2337   43          16     201       1   10.0          2         0   \n",
       "3341   35           9      33       2    0.3          1         0   \n",
       "3602   47          21      42       4    0.1          1         0   \n",
       "\n",
       "      Securities Account  CD Account  Online  CreditCard  \n",
       "3395                   0           0       0           0  \n",
       "370                    0           0       0           0  \n",
       "2337                   0           0       0           1  \n",
       "3341                   1           0       1           0  \n",
       "3602                   0           0       1           1  "
      ]
     },
     "execution_count": 12,
     "metadata": {},
     "output_type": "execute_result"
    }
   ],
   "source": [
    "X_train.head()"
   ]
  },
  {
   "cell_type": "code",
   "execution_count": 13,
   "id": "b91308b9-1a49-4f5e-bfa1-37bf76aaa98a",
   "metadata": {
    "execution": {
     "iopub.execute_input": "2023-02-25T15:32:28.790187Z",
     "iopub.status.busy": "2023-02-25T15:32:28.789682Z",
     "iopub.status.idle": "2023-02-25T15:32:28.805154Z",
     "shell.execute_reply": "2023-02-25T15:32:28.804169Z",
     "shell.execute_reply.started": "2023-02-25T15:32:28.790187Z"
    }
   },
   "outputs": [
    {
     "data": {
      "text/plain": [
       "(3463, 1)"
      ]
     },
     "execution_count": 13,
     "metadata": {},
     "output_type": "execute_result"
    }
   ],
   "source": [
    "y_train.shape"
   ]
  },
  {
   "cell_type": "markdown",
   "id": "ce3255fa-59b3-44e1-9145-38db33a14b6e",
   "metadata": {
    "tags": []
   },
   "source": [
    "## 3.2 Logistic Regression"
   ]
  },
  {
   "cell_type": "markdown",
   "id": "87497bd5-916d-4bbe-8075-0edc14578265",
   "metadata": {},
   "source": [
    "### 3.2.1 Logistic Regression (including all variables and without normalization)"
   ]
  },
  {
   "cell_type": "code",
   "execution_count": 14,
   "id": "ef12807e-37c8-4426-873e-52df32045231",
   "metadata": {
    "execution": {
     "iopub.execute_input": "2023-02-25T15:32:28.807158Z",
     "iopub.status.busy": "2023-02-25T15:32:28.807158Z",
     "iopub.status.idle": "2023-02-25T15:32:28.835073Z",
     "shell.execute_reply": "2023-02-25T15:32:28.834076Z",
     "shell.execute_reply.started": "2023-02-25T15:32:28.807158Z"
    }
   },
   "outputs": [],
   "source": [
    "# prep for logistic regression\n",
    "\n",
    "from collections import Counter\n",
    "from numpy import mean\n",
    "from numpy import std\n",
    "from sklearn.datasets import make_classification\n",
    "from sklearn.model_selection import cross_val_score\n",
    "from sklearn.model_selection import RepeatedStratifiedKFold\n",
    "from sklearn.linear_model import LogisticRegression\n",
    "from sklearn import linear_model\n",
    "from sklearn.metrics import roc_curve, auc, roc_auc_score\n",
    "from sklearn.metrics import confusion_matrix,precision_score,recall_score, f1_score,accuracy_score, classification_report\n",
    "import scipy.stats as stat\n",
    "\n",
    "\n",
    "class LogisticReg:\n",
    "    \"\"\"\n",
    "    Wrapper Class for Logistic Regression which has the usual sklearn instance \n",
    "    in an attribute self.model, and pvalues, z scores and estimated \n",
    "    errors for each coefficient in \n",
    "    \n",
    "    self.z_scores\n",
    "    self.p_values\n",
    "    self.sigma_estimates\n",
    "    \n",
    "    as well as the negative hessian of the log Likelihood (Fisher information)\n",
    "    \n",
    "    self.F_ij\n",
    "    \"\"\"\n",
    "    \n",
    "    def __init__(self,*args,**kwargs):#,**kwargs):\n",
    "        self.model = linear_model.LogisticRegression(*args,**kwargs)#,**args)\n",
    "\n",
    "    def fit(self,X,y):\n",
    "        self.model.fit(X,y)\n",
    "        #### Get p-values for the fitted model ####\n",
    "        denom = (2.0*(1.0+np.cosh(self.model.decision_function(X))))\n",
    "        denom = np.tile(denom,(X.shape[1],1)).T\n",
    "\n",
    "        F_ij = np.dot((X/denom).T,X) ## Fisher Information Matrix\n",
    "        eps=1e-4\n",
    "        F_ij = np.dot((X / denom).T,X) + np.eye(F_ij.shape[0])*eps ## Fisher Information Matrix\n",
    "        Cramer_Rao = np.linalg.inv(F_ij) ## Inverse Information Matrix\n",
    "        sigma_estimates = np.sqrt(np.diagonal(Cramer_Rao))\n",
    "        z_scores = self.model.coef_[0]/sigma_estimates # z-score for eaach model coefficient\n",
    "        p_values = [stat.norm.sf(abs(x))*2 for x in z_scores] ### two tailed test for p-values\n",
    "        \n",
    "        self.z_scores = z_scores\n",
    "        self.p_values = p_values\n",
    "        self.sigma_estimates = sigma_estimates\n",
    "        self.F_ij = F_ij\n",
    "        "
   ]
  },
  {
   "cell_type": "code",
   "execution_count": 15,
   "id": "0a03869c-6744-4c25-b6f8-13c84d947edd",
   "metadata": {
    "execution": {
     "iopub.execute_input": "2023-02-25T15:32:28.837068Z",
     "iopub.status.busy": "2023-02-25T15:32:28.836071Z",
     "iopub.status.idle": "2023-02-25T15:32:39.116541Z",
     "shell.execute_reply": "2023-02-25T15:32:39.116302Z",
     "shell.execute_reply.started": "2023-02-25T15:32:28.837068Z"
    }
   },
   "outputs": [
    {
     "name": "stdout",
     "output_type": "stream",
     "text": [
      "Fitting 3 folds for each of 80 candidates, totalling 240 fits\n"
     ]
    }
   ],
   "source": [
    "# Create first pipeline for base without reducing features.\n",
    "# Use grid search to find the best hyoer parameters(such as solver, panelty function) for logistic regression\n",
    "\n",
    "\n",
    "from sklearn.pipeline import Pipeline\n",
    "from sklearn.model_selection import GridSearchCV\n",
    "\n",
    "pipe = Pipeline([('classifier' , LogisticRegression())])\n",
    "\n",
    "# Create param grid.\n",
    "\n",
    "param_grid = [\n",
    "    {'classifier' : [LogisticRegression()],\n",
    "     'classifier__penalty' : ['l2'],\n",
    "    'classifier__C' : np.logspace(-4, 4, 20),\n",
    "    'classifier__solver' : ['liblinear','newton-cg', 'sag', 'lbfgs' ]}\n",
    "]\n",
    "\n",
    "# Create grid search object\n",
    "\n",
    "clf = GridSearchCV(pipe, param_grid = param_grid, cv = 3, verbose=True, n_jobs=-1)\n",
    "\n",
    "# Fit on data\n",
    "\n",
    "lr_model = clf.fit(X_train, y_train)"
   ]
  },
  {
   "cell_type": "code",
   "execution_count": 16,
   "id": "57e5da41-c9c8-47be-bac1-f07505d73846",
   "metadata": {
    "execution": {
     "iopub.execute_input": "2023-02-25T15:32:39.117403Z",
     "iopub.status.busy": "2023-02-25T15:32:39.117403Z",
     "iopub.status.idle": "2023-02-25T15:32:39.147468Z",
     "shell.execute_reply": "2023-02-25T15:32:39.146557Z",
     "shell.execute_reply.started": "2023-02-25T15:32:39.117403Z"
    }
   },
   "outputs": [
    {
     "name": "stdout",
     "output_type": "stream",
     "text": [
      "GridSearchCV(cv=3,\n",
      "             estimator=Pipeline(steps=[('classifier', LogisticRegression())]),\n",
      "             n_jobs=-1,\n",
      "             param_grid=[{'classifier': [LogisticRegression(C=11.288378916846883,\n",
      "                                                            solver='newton-cg')],\n",
      "                          'classifier__C': array([1.00000000e-04, 2.63665090e-04, 6.95192796e-04, 1.83298071e-03,\n",
      "       4.83293024e-03, 1.27427499e-02, 3.35981829e-02, 8.85866790e-02,\n",
      "       2.33572147e-01, 6.15848211e-01, 1.62377674e+00, 4.28133240e+00,\n",
      "       1.12883789e+01, 2.97635144e+01, 7.84759970e+01, 2.06913808e+02,\n",
      "       5.45559478e+02, 1.43844989e+03, 3.79269019e+03, 1.00000000e+04]),\n",
      "                          'classifier__penalty': ['l2'],\n",
      "                          'classifier__solver': ['liblinear', 'newton-cg',\n",
      "                                                 'sag', 'lbfgs']}],\n",
      "             verbose=True)\n"
     ]
    }
   ],
   "source": [
    "print(lr_model)"
   ]
  },
  {
   "cell_type": "code",
   "execution_count": 17,
   "id": "e6b8c59e-18aa-42e7-aa46-5562c738d3d7",
   "metadata": {
    "execution": {
     "iopub.execute_input": "2023-02-25T15:32:39.148467Z",
     "iopub.status.busy": "2023-02-25T15:32:39.148467Z",
     "iopub.status.idle": "2023-02-25T15:32:39.400848Z",
     "shell.execute_reply": "2023-02-25T15:32:39.400848Z",
     "shell.execute_reply.started": "2023-02-25T15:32:39.148467Z"
    }
   },
   "outputs": [
    {
     "name": "stdout",
     "output_type": "stream",
     "text": [
      "Accuracy of test data: 0.954 \n"
     ]
    }
   ],
   "source": [
    "# Build model with logistic regression\n",
    "lr_model = LogisticReg(C=11.288378916846883,solver='newton-cg')\n",
    "lr_model.fit(X_train,y_train)\n",
    "\n",
    "\n",
    "# predict the class label\n",
    "yhat = lr_model.model.predict(X_test)\n",
    "yhat = yhat.reshape((len(yhat), 1))\n",
    "# summarize the predicted class\n",
    "# print('Predicted Class: %d' % yhat[0])\n",
    "y_diff = yhat == y_test\n",
    "unique, counts = np.unique(y_diff, return_counts=True)\n",
    "print('Accuracy of test data: %.3f ' % (counts[1]/(counts[0] + counts[1])))"
   ]
  },
  {
   "cell_type": "code",
   "execution_count": 18,
   "id": "ead4ba04-5e14-44d5-a18d-c7da1f2d1db8",
   "metadata": {
    "execution": {
     "iopub.execute_input": "2023-02-25T15:32:39.401788Z",
     "iopub.status.busy": "2023-02-25T15:32:39.401788Z",
     "iopub.status.idle": "2023-02-25T15:32:39.415913Z",
     "shell.execute_reply": "2023-02-25T15:32:39.415827Z",
     "shell.execute_reply.started": "2023-02-25T15:32:39.401788Z"
    }
   },
   "outputs": [
    {
     "name": "stdout",
     "output_type": "stream",
     "text": [
      "Features | Coef | P-value\n",
      "Age | -0.06797396548816324 | 0.010229648365519841\n",
      "Experience | 0.07700504888698399 | 0.009514893826225891\n",
      "Income | 0.05367391439708355 | 2.1367855503574054e-71\n",
      "Family | 0.673404021180574 | 1.5217192497756187e-14\n",
      "CCAvg | 0.1211109827924873 | 0.010969817436008803\n",
      "Education | 1.6643243168443123 | 1.526289820500947e-34\n",
      "Mortgage | 0.0009196757172491444 | 0.15634033939524813\n",
      "Securities Account | -0.7992340235231095 | 0.019531688946531157\n",
      "CD Account | 3.861859909664598 | 2.0313923420869428e-22\n",
      "Online | -0.6931102710196916 | 0.00019841221227437865\n",
      "CreditCard | -1.2655133984087148 | 3.454176061228562e-07\n"
     ]
    }
   ],
   "source": [
    "# Display the coefficient & P-value of each input variable\n",
    "\n",
    "print('Features', \"|\",'Coef', \"|\", 'P-value' )\n",
    "for i in range(len(X_train.columns)):\n",
    "    print(X_train.columns[i], \"|\",lr_model.model.coef_[0,i], \"|\", lr_model.p_values[i] )"
   ]
  },
  {
   "cell_type": "code",
   "execution_count": 19,
   "id": "13f9ce50-82b5-404c-8f76-5af17d41b673",
   "metadata": {
    "execution": {
     "iopub.execute_input": "2023-02-25T15:32:39.416746Z",
     "iopub.status.busy": "2023-02-25T15:32:39.416746Z",
     "iopub.status.idle": "2023-02-25T15:32:39.432226Z",
     "shell.execute_reply": "2023-02-25T15:32:39.431288Z",
     "shell.execute_reply.started": "2023-02-25T15:32:39.416746Z"
    }
   },
   "outputs": [
    {
     "name": "stdout",
     "output_type": "stream",
     "text": [
      "Accuracy of Train data: 0.952 \n",
      "Accuracy of Test data: 0.954 \n",
      "------------------------------------------------------------------------\n",
      "Confusion Matrix on Test data:\n",
      "[[1323   17]\n",
      " [  51   94]]\n",
      "------------------------------------------------------------------------\n",
      "Classification Report on Test data:\n",
      "              precision    recall  f1-score   support\n",
      "\n",
      "           0       0.96      0.99      0.97      1340\n",
      "           1       0.85      0.65      0.73       145\n",
      "\n",
      "    accuracy                           0.95      1485\n",
      "   macro avg       0.90      0.82      0.85      1485\n",
      "weighted avg       0.95      0.95      0.95      1485\n",
      "\n"
     ]
    }
   ],
   "source": [
    "# Display  accuracy , confusion matrix & Classification Report\n",
    "\n",
    "print('Accuracy of Train data: %.3f ' % (lr_model.model.score(X_train,y_train)))\n",
    "print('Accuracy of Test data: %.3f ' % accuracy_score(y_test, yhat) )\n",
    "print('------------------------------------------------------------------------')\n",
    "print('Confusion Matrix on Test data:')\n",
    "print(confusion_matrix(y_test, yhat))\n",
    "print('------------------------------------------------------------------------')\n",
    "print('Classification Report on Test data:')\n",
    "print(classification_report(y_test, yhat))"
   ]
  },
  {
   "cell_type": "code",
   "execution_count": 20,
   "id": "7b1610c0-6010-4af8-a672-44500426396d",
   "metadata": {
    "execution": {
     "iopub.execute_input": "2023-02-25T15:32:39.433224Z",
     "iopub.status.busy": "2023-02-25T15:32:39.433224Z",
     "iopub.status.idle": "2023-02-25T15:32:41.862289Z",
     "shell.execute_reply": "2023-02-25T15:32:41.861042Z",
     "shell.execute_reply.started": "2023-02-25T15:32:39.433224Z"
    }
   },
   "outputs": [
    {
     "name": "stdout",
     "output_type": "stream",
     "text": [
      "AUC Score (Test): 0.960257\n"
     ]
    },
    {
     "data": {
      "image/png": "[encoded data removed]",
      "text/plain": [
       "<Figure size 792x576 with 1 Axes>"
      ]
     },
     "metadata": {},
     "output_type": "display_data"
    },
    {
     "data": {
      "text/plain": [
       "<ggplot: (96653564558)>"
      ]
     },
     "execution_count": 20,
     "metadata": {},
     "output_type": "execute_result"
    }
   ],
   "source": [
    "# Plot ROC \n",
    "\n",
    "# import sklearn.metrics as metrics\n",
    "# calculate the fpr and tpr for all thresholds of the classification\n",
    "from ggplot import *\n",
    "\n",
    "lr_probs = lr_model.model.predict_proba(X_test)\n",
    "lr_preds = lr_probs[:,1]\n",
    "fpr, tpr, threshold = metrics.roc_curve(y_test,lr_preds)\n",
    "roc_auc = metrics.auc(fpr, tpr)\n",
    "\n",
    "print(\"AUC Score (Test): %f\" % metrics.roc_auc_score(y_test, lr_preds))\n",
    "\n",
    "df = pd.DataFrame(dict(fpr = fpr, tpr = tpr))\n",
    "ggplot(df, aes(x = 'fpr', y = 'tpr')) + geom_line() + geom_abline(linetype = 'dashed') + \\\n",
    "scale_x_continuous(expand = [0, 0], limits = [0,1]) + \\\n",
    "scale_y_continuous(expand = [0, 0], limits = [0,1])"
   ]
  },
  {
   "cell_type": "markdown",
   "id": "1b73a5e8-4e29-4484-a6c4-48097304f914",
   "metadata": {
    "tags": []
   },
   "source": [
    "### 3.2.2 Logistic Regression (Standardize all input variables)"
   ]
  },
  {
   "cell_type": "markdown",
   "id": "15a0884f-3e39-42a9-959b-2940bc3545ba",
   "metadata": {},
   "source": [
    "#### Standardize the variables"
   ]
  },
  {
   "cell_type": "code",
   "execution_count": 21,
   "id": "ca150621-0049-42df-8ee7-5107124db28c",
   "metadata": {
    "execution": {
     "iopub.execute_input": "2023-02-25T15:32:41.863249Z",
     "iopub.status.busy": "2023-02-25T15:32:41.862289Z",
     "iopub.status.idle": "2023-02-25T15:32:41.921164Z",
     "shell.execute_reply": "2023-02-25T15:32:41.921164Z",
     "shell.execute_reply.started": "2023-02-25T15:32:41.863249Z"
    }
   },
   "outputs": [
    {
     "data": {
      "text/html": [
       "<div>\n",
       "<style scoped>\n",
       "    .dataframe tbody tr th:only-of-type {\n",
       "        vertical-align: middle;\n",
       "    }\n",
       "\n",
       "    .dataframe tbody tr th {\n",
       "        vertical-align: top;\n",
       "    }\n",
       "\n",
       "    .dataframe thead th {\n",
       "        text-align: right;\n",
       "    }\n",
       "</style>\n",
       "<table border=\"1\" class=\"dataframe\">\n",
       "  <thead>\n",
       "    <tr style=\"text-align: right;\">\n",
       "      <th></th>\n",
       "      <th>0</th>\n",
       "      <th>1</th>\n",
       "      <th>2</th>\n",
       "      <th>3</th>\n",
       "      <th>4</th>\n",
       "      <th>5</th>\n",
       "      <th>6</th>\n",
       "      <th>7</th>\n",
       "      <th>8</th>\n",
       "      <th>9</th>\n",
       "      <th>10</th>\n",
       "    </tr>\n",
       "  </thead>\n",
       "  <tbody>\n",
       "    <tr>\n",
       "      <th>count</th>\n",
       "      <td>4948.000000</td>\n",
       "      <td>4948.000000</td>\n",
       "      <td>4948.000000</td>\n",
       "      <td>4948.000000</td>\n",
       "      <td>4948.000000</td>\n",
       "      <td>4948.000000</td>\n",
       "      <td>4948.000000</td>\n",
       "      <td>4948.000000</td>\n",
       "      <td>4948.000000</td>\n",
       "      <td>4948.000000</td>\n",
       "      <td>4948.000000</td>\n",
       "    </tr>\n",
       "    <tr>\n",
       "      <th>mean</th>\n",
       "      <td>0.501330</td>\n",
       "      <td>0.472815</td>\n",
       "      <td>0.304697</td>\n",
       "      <td>0.463824</td>\n",
       "      <td>0.193593</td>\n",
       "      <td>0.439470</td>\n",
       "      <td>0.089188</td>\n",
       "      <td>0.104285</td>\n",
       "      <td>0.061035</td>\n",
       "      <td>0.597009</td>\n",
       "      <td>0.294058</td>\n",
       "    </tr>\n",
       "    <tr>\n",
       "      <th>std</th>\n",
       "      <td>0.263273</td>\n",
       "      <td>0.263069</td>\n",
       "      <td>0.213484</td>\n",
       "      <td>0.382815</td>\n",
       "      <td>0.174769</td>\n",
       "      <td>0.419873</td>\n",
       "      <td>0.160360</td>\n",
       "      <td>0.305660</td>\n",
       "      <td>0.239418</td>\n",
       "      <td>0.490549</td>\n",
       "      <td>0.455664</td>\n",
       "    </tr>\n",
       "    <tr>\n",
       "      <th>min</th>\n",
       "      <td>0.000000</td>\n",
       "      <td>0.000000</td>\n",
       "      <td>0.000000</td>\n",
       "      <td>0.000000</td>\n",
       "      <td>0.000000</td>\n",
       "      <td>0.000000</td>\n",
       "      <td>0.000000</td>\n",
       "      <td>0.000000</td>\n",
       "      <td>0.000000</td>\n",
       "      <td>0.000000</td>\n",
       "      <td>0.000000</td>\n",
       "    </tr>\n",
       "    <tr>\n",
       "      <th>25%</th>\n",
       "      <td>0.279070</td>\n",
       "      <td>0.250000</td>\n",
       "      <td>0.143519</td>\n",
       "      <td>0.000000</td>\n",
       "      <td>0.070000</td>\n",
       "      <td>0.000000</td>\n",
       "      <td>0.000000</td>\n",
       "      <td>0.000000</td>\n",
       "      <td>0.000000</td>\n",
       "      <td>0.000000</td>\n",
       "      <td>0.000000</td>\n",
       "    </tr>\n",
       "    <tr>\n",
       "      <th>50%</th>\n",
       "      <td>0.511628</td>\n",
       "      <td>0.465116</td>\n",
       "      <td>0.259259</td>\n",
       "      <td>0.333333</td>\n",
       "      <td>0.150000</td>\n",
       "      <td>0.500000</td>\n",
       "      <td>0.000000</td>\n",
       "      <td>0.000000</td>\n",
       "      <td>0.000000</td>\n",
       "      <td>1.000000</td>\n",
       "      <td>0.000000</td>\n",
       "    </tr>\n",
       "    <tr>\n",
       "      <th>75%</th>\n",
       "      <td>0.720930</td>\n",
       "      <td>0.697674</td>\n",
       "      <td>0.416667</td>\n",
       "      <td>0.666667</td>\n",
       "      <td>0.260000</td>\n",
       "      <td>1.000000</td>\n",
       "      <td>0.159055</td>\n",
       "      <td>0.000000</td>\n",
       "      <td>0.000000</td>\n",
       "      <td>1.000000</td>\n",
       "      <td>1.000000</td>\n",
       "    </tr>\n",
       "    <tr>\n",
       "      <th>max</th>\n",
       "      <td>1.000000</td>\n",
       "      <td>1.000000</td>\n",
       "      <td>1.000000</td>\n",
       "      <td>1.000000</td>\n",
       "      <td>1.000000</td>\n",
       "      <td>1.000000</td>\n",
       "      <td>1.000000</td>\n",
       "      <td>1.000000</td>\n",
       "      <td>1.000000</td>\n",
       "      <td>1.000000</td>\n",
       "      <td>1.000000</td>\n",
       "    </tr>\n",
       "  </tbody>\n",
       "</table>\n",
       "</div>"
      ],
      "text/plain": [
       "                0            1            2            3            4   \\\n",
       "count  4948.000000  4948.000000  4948.000000  4948.000000  4948.000000   \n",
       "mean      0.501330     0.472815     0.304697     0.463824     0.193593   \n",
       "std       0.263273     0.263069     0.213484     0.382815     0.174769   \n",
       "min       0.000000     0.000000     0.000000     0.000000     0.000000   \n",
       "25%       0.279070     0.250000     0.143519     0.000000     0.070000   \n",
       "50%       0.511628     0.465116     0.259259     0.333333     0.150000   \n",
       "75%       0.720930     0.697674     0.416667     0.666667     0.260000   \n",
       "max       1.000000     1.000000     1.000000     1.000000     1.000000   \n",
       "\n",
       "                5            6            7            8            9   \\\n",
       "count  4948.000000  4948.000000  4948.000000  4948.000000  4948.000000   \n",
       "mean      0.439470     0.089188     0.104285     0.061035     0.597009   \n",
       "std       0.419873     0.160360     0.305660     0.239418     0.490549   \n",
       "min       0.000000     0.000000     0.000000     0.000000     0.000000   \n",
       "25%       0.000000     0.000000     0.000000     0.000000     0.000000   \n",
       "50%       0.500000     0.000000     0.000000     0.000000     1.000000   \n",
       "75%       1.000000     0.159055     0.000000     0.000000     1.000000   \n",
       "max       1.000000     1.000000     1.000000     1.000000     1.000000   \n",
       "\n",
       "                10  \n",
       "count  4948.000000  \n",
       "mean      0.294058  \n",
       "std       0.455664  \n",
       "min       0.000000  \n",
       "25%       0.000000  \n",
       "50%       0.000000  \n",
       "75%       1.000000  \n",
       "max       1.000000  "
      ]
     },
     "execution_count": 21,
     "metadata": {},
     "output_type": "execute_result"
    }
   ],
   "source": [
    "# from sklearn.preprocessing import StandardScaler\n",
    "from sklearn.preprocessing import MinMaxScaler\n",
    "\n",
    "# standardization of variables\n",
    "min_max_scaler = MinMaxScaler()\n",
    "Xs = min_max_scaler.fit_transform(X)\n",
    "\n",
    "pd.DataFrame(Xs).describe()"
   ]
  },
  {
   "cell_type": "markdown",
   "id": "3a612c92-fb73-415a-9bd1-f50673cdc903",
   "metadata": {},
   "source": [
    "#### Split the standardized data "
   ]
  },
  {
   "cell_type": "code",
   "execution_count": 22,
   "id": "d6be8ce4-ac01-4ea3-b9b3-884f17a618c0",
   "metadata": {
    "execution": {
     "iopub.execute_input": "2023-02-25T15:32:41.923088Z",
     "iopub.status.busy": "2023-02-25T15:32:41.922090Z",
     "iopub.status.idle": "2023-02-25T15:32:41.936052Z",
     "shell.execute_reply": "2023-02-25T15:32:41.936052Z",
     "shell.execute_reply.started": "2023-02-25T15:32:41.923088Z"
    }
   },
   "outputs": [],
   "source": [
    "Xs_train, Xs_test, y_train, y_test = train_test_split(Xs, y, test_size=0.30, random_state=1)\n"
   ]
  },
  {
   "cell_type": "markdown",
   "id": "e5ecb47b-0206-4b17-bb97-6101925ab533",
   "metadata": {},
   "source": [
    "#### Run Logistic Regression with standardized data"
   ]
  },
  {
   "cell_type": "code",
   "execution_count": 23,
   "id": "c80045de-dbb8-4137-bb01-ebcea12f8983",
   "metadata": {
    "execution": {
     "iopub.execute_input": "2023-02-25T15:32:41.937052Z",
     "iopub.status.busy": "2023-02-25T15:32:41.937052Z",
     "iopub.status.idle": "2023-02-25T15:32:43.370299Z",
     "shell.execute_reply": "2023-02-25T15:32:43.370299Z",
     "shell.execute_reply.started": "2023-02-25T15:32:41.937052Z"
    }
   },
   "outputs": [
    {
     "name": "stdout",
     "output_type": "stream",
     "text": [
      "Fitting 3 folds for each of 80 candidates, totalling 240 fits\n",
      "Best parameters:  {'classifier': LogisticRegression(C=206.913808111479, solver='liblinear'), 'classifier__C': 206.913808111479, 'classifier__penalty': 'l2', 'classifier__solver': 'liblinear'}\n",
      "Best score:  0.9500446405125781\n"
     ]
    }
   ],
   "source": [
    "# Create first pipeline for base without reducing features.\n",
    "from sklearn.pipeline import Pipeline\n",
    "from sklearn.model_selection import GridSearchCV\n",
    "\n",
    "pipe = Pipeline([('classifier' , LogisticRegression())])\n",
    "\n",
    "# Create param grid.\n",
    "\n",
    "param_grid = [\n",
    "    {'classifier' : [LogisticRegression()],\n",
    "     'classifier__penalty' : ['l2'],\n",
    "    'classifier__C' : np.logspace(-4, 4, 20),\n",
    "    'classifier__solver' : ['liblinear','newton-cg', 'sag', 'lbfgs' ]}\n",
    "]\n",
    "\n",
    "# Create grid search object\n",
    "\n",
    "grid = GridSearchCV(pipe, param_grid = param_grid, cv = 3, verbose=True, n_jobs=-1)\n",
    "\n",
    "# Fit on data\n",
    "\n",
    "grid.fit(Xs_train, y_train)\n",
    "\n",
    "print(\"Best parameters: \", grid.best_params_)\n",
    "print(\"Best score: \", grid.best_score_)"
   ]
  },
  {
   "cell_type": "code",
   "execution_count": 24,
   "id": "f6cf4520-7b96-4762-b323-0a0a37d9b4bc",
   "metadata": {
    "execution": {
     "iopub.execute_input": "2023-02-25T15:32:43.372327Z",
     "iopub.status.busy": "2023-02-25T15:32:43.371414Z",
     "iopub.status.idle": "2023-02-25T15:32:43.386288Z",
     "shell.execute_reply": "2023-02-25T15:32:43.385358Z",
     "shell.execute_reply.started": "2023-02-25T15:32:43.372327Z"
    }
   },
   "outputs": [
    {
     "name": "stdout",
     "output_type": "stream",
     "text": [
      "Best parameters:  {'classifier': LogisticRegression(C=206.913808111479, solver='liblinear'), 'classifier__C': 206.913808111479, 'classifier__penalty': 'l2', 'classifier__solver': 'liblinear'}\n",
      "Best score:  0.9500446405125781\n"
     ]
    }
   ],
   "source": [
    "# print(lr_model_s)\n",
    "\n",
    "print(\"Best parameters: \", grid.best_params_)\n",
    "print(\"Best score: \", grid.best_score_)\n"
   ]
  },
  {
   "cell_type": "code",
   "execution_count": 25,
   "id": "52d85a39-4b6f-4481-bc1c-3ef6ba701ca6",
   "metadata": {
    "execution": {
     "iopub.execute_input": "2023-02-25T15:32:43.387285Z",
     "iopub.status.busy": "2023-02-25T15:32:43.386288Z",
     "iopub.status.idle": "2023-02-25T15:32:43.446128Z",
     "shell.execute_reply": "2023-02-25T15:32:43.445307Z",
     "shell.execute_reply.started": "2023-02-25T15:32:43.387285Z"
    },
    "tags": []
   },
   "outputs": [
    {
     "name": "stdout",
     "output_type": "stream",
     "text": [
      "Accuracy of test data: 0.842 \n"
     ]
    }
   ],
   "source": [
    "# Build model with logistic regression\n",
    "lr_model_s = LogisticReg(C=206.913808111479,solver='liblinear')\n",
    "lr_model_s.fit(Xs_train,y_train)\n",
    "\n",
    "\n",
    "# predict the class label\n",
    "yhat = lr_model_s.model.predict(Xs_test)\n",
    "# summarize the predicted class\n",
    "# print('Predicted Class: %d' % yhat[0])\n",
    "y_diff = yhat == y_test\n",
    "unique, counts = np.unique(y_diff, return_counts=True)\n",
    "print('Accuracy of test data: %.3f ' % (counts[1]/(counts[0] + counts[1])))"
   ]
  },
  {
   "cell_type": "code",
   "execution_count": 26,
   "id": "523b9f24-8073-459d-9dd2-bebb7edd42ff",
   "metadata": {
    "execution": {
     "iopub.execute_input": "2023-02-25T15:32:43.448367Z",
     "iopub.status.busy": "2023-02-25T15:32:43.447215Z",
     "iopub.status.idle": "2023-02-25T15:32:43.461088Z",
     "shell.execute_reply": "2023-02-25T15:32:43.460186Z",
     "shell.execute_reply.started": "2023-02-25T15:32:43.448367Z"
    }
   },
   "outputs": [
    {
     "name": "stdout",
     "output_type": "stream",
     "text": [
      "95.17759168351141\n",
      "95.42087542087542\n",
      "[[1323   17]\n",
      " [  51   94]]\n",
      "              precision    recall  f1-score   support\n",
      "\n",
      "           0       0.96      0.99      0.97      1340\n",
      "           1       0.85      0.65      0.73       145\n",
      "\n",
      "    accuracy                           0.95      1485\n",
      "   macro avg       0.90      0.82      0.85      1485\n",
      "weighted avg       0.95      0.95      0.95      1485\n",
      "\n"
     ]
    }
   ],
   "source": [
    "print(lr_model_s.model.score(Xs_train,y_train)*100)\n",
    "print(accuracy_score(y_test, yhat)*100)\n",
    "print(confusion_matrix(y_test, yhat))\n",
    "print(classification_report(y_test, yhat))"
   ]
  },
  {
   "cell_type": "code",
   "execution_count": 27,
   "id": "2677939f-619f-4744-9eaa-eef584d44995",
   "metadata": {
    "execution": {
     "iopub.execute_input": "2023-02-25T15:32:43.464078Z",
     "iopub.status.busy": "2023-02-25T15:32:43.464078Z",
     "iopub.status.idle": "2023-02-25T15:32:43.475120Z",
     "shell.execute_reply": "2023-02-25T15:32:43.475120Z",
     "shell.execute_reply.started": "2023-02-25T15:32:43.464078Z"
    }
   },
   "outputs": [
    {
     "name": "stdout",
     "output_type": "stream",
     "text": [
      "Features | Coef | P-value\n",
      "Age | -2.6739140528851806 | 0.39568214548726566\n",
      "Experience | 3.0581745872386032 | 0.33276455136511296\n",
      "Income | 11.583736879399805 | 1.417819933018845e-152\n",
      "Family | 2.017766387124986 | 7.176864559697684e-18\n",
      "CCAvg | 1.213024005296991 | 0.010193550838007078\n",
      "Education | 3.326110186878161 | 4.5401205731305476e-52\n",
      "Mortgage | 0.5803791448936666 | 0.1575904320909327\n",
      "Securities Account | -0.831930866262461 | 0.01551133135852197\n",
      "CD Account | 3.92064733421696 | 2.6133183025511488e-23\n",
      "Online | -0.7025779524420458 | 0.00016261690191901173\n",
      "CreditCard | -1.2885252757673786 | 2.3795407149796337e-07\n"
     ]
    }
   ],
   "source": [
    "print('Features', \"|\",'Coef', \"|\", 'P-value' )\n",
    "for i in range(len(X_train.columns)):\n",
    "    print(X_train.columns[i], \"|\",lr_model_s.model.coef_[0,i], \"|\", lr_model_s.p_values[i] )"
   ]
  },
  {
   "cell_type": "code",
   "execution_count": 28,
   "id": "238cb0ae-a661-4379-8008-63781f129ad3",
   "metadata": {
    "execution": {
     "iopub.execute_input": "2023-02-25T15:32:43.476272Z",
     "iopub.status.busy": "2023-02-25T15:32:43.476272Z",
     "iopub.status.idle": "2023-02-25T15:32:43.685895Z",
     "shell.execute_reply": "2023-02-25T15:32:43.685895Z",
     "shell.execute_reply.started": "2023-02-25T15:32:43.476272Z"
    }
   },
   "outputs": [
    {
     "name": "stdout",
     "output_type": "stream",
     "text": [
      "AUC Score (Test): 0.960304\n"
     ]
    },
    {
     "data": {
      "image/png": "[encoded data removed]",
      "text/plain": [
       "<Figure size 792x576 with 1 Axes>"
      ]
     },
     "metadata": {},
     "output_type": "display_data"
    },
    {
     "data": {
      "text/plain": [
       "<ggplot: (96656323389)>"
      ]
     },
     "execution_count": 28,
     "metadata": {},
     "output_type": "execute_result"
    }
   ],
   "source": [
    "# Plot ROC \n",
    "\n",
    "# import sklearn.metrics as metrics\n",
    "# calculate the fpr and tpr for all thresholds of the classification\n",
    "# from ggplot import *\n",
    "\n",
    "lr_s_probs = lr_model_s.model.predict_proba(Xs_test)\n",
    "lr_s_preds = lr_s_probs[:,1]\n",
    "fpr, tpr, threshold = metrics.roc_curve(y_test,lr_s_preds)\n",
    "roc_auc = metrics.auc(fpr, tpr)\n",
    "\n",
    "print(\"AUC Score (Test): %f\" % metrics.roc_auc_score(y_test, lr_s_preds))\n",
    "\n",
    "df = pd.DataFrame(dict(fpr = fpr, tpr = tpr))\n",
    "ggplot(df, aes(x = 'fpr', y = 'tpr')) + geom_line() + geom_abline(linetype = 'dashed') + \\\n",
    "scale_x_continuous(expand = [0, 0], limits = [0,1]) + \\\n",
    "scale_y_continuous(expand = [0, 0], limits = [0,1])"
   ]
  },
  {
   "cell_type": "markdown",
   "id": "d77effab-0994-4bc2-9e98-316d7d5bd02a",
   "metadata": {},
   "source": [
    "#### Drop Experience Variable and rerun logistic regression"
   ]
  },
  {
   "cell_type": "code",
   "execution_count": 29,
   "id": "e512152b-779e-42c8-867e-4541893be31f",
   "metadata": {
    "execution": {
     "iopub.execute_input": "2023-02-25T15:32:43.686812Z",
     "iopub.status.busy": "2023-02-25T15:32:43.686812Z",
     "iopub.status.idle": "2023-02-25T15:32:43.732313Z",
     "shell.execute_reply": "2023-02-25T15:32:43.731195Z",
     "shell.execute_reply.started": "2023-02-25T15:32:43.686812Z"
    }
   },
   "outputs": [
    {
     "data": {
      "text/html": [
       "<div>\n",
       "<style scoped>\n",
       "    .dataframe tbody tr th:only-of-type {\n",
       "        vertical-align: middle;\n",
       "    }\n",
       "\n",
       "    .dataframe tbody tr th {\n",
       "        vertical-align: top;\n",
       "    }\n",
       "\n",
       "    .dataframe thead th {\n",
       "        text-align: right;\n",
       "    }\n",
       "</style>\n",
       "<table border=\"1\" class=\"dataframe\">\n",
       "  <thead>\n",
       "    <tr style=\"text-align: right;\">\n",
       "      <th></th>\n",
       "      <th>0</th>\n",
       "      <th>1</th>\n",
       "      <th>2</th>\n",
       "      <th>3</th>\n",
       "      <th>4</th>\n",
       "      <th>5</th>\n",
       "      <th>6</th>\n",
       "      <th>7</th>\n",
       "      <th>8</th>\n",
       "      <th>9</th>\n",
       "    </tr>\n",
       "  </thead>\n",
       "  <tbody>\n",
       "    <tr>\n",
       "      <th>count</th>\n",
       "      <td>4948.000000</td>\n",
       "      <td>4948.000000</td>\n",
       "      <td>4948.000000</td>\n",
       "      <td>4948.000000</td>\n",
       "      <td>4948.000000</td>\n",
       "      <td>4948.000000</td>\n",
       "      <td>4948.000000</td>\n",
       "      <td>4948.000000</td>\n",
       "      <td>4948.000000</td>\n",
       "      <td>4948.000000</td>\n",
       "    </tr>\n",
       "    <tr>\n",
       "      <th>mean</th>\n",
       "      <td>0.501330</td>\n",
       "      <td>0.304697</td>\n",
       "      <td>0.463824</td>\n",
       "      <td>0.193593</td>\n",
       "      <td>0.439470</td>\n",
       "      <td>0.089188</td>\n",
       "      <td>0.104285</td>\n",
       "      <td>0.061035</td>\n",
       "      <td>0.597009</td>\n",
       "      <td>0.294058</td>\n",
       "    </tr>\n",
       "    <tr>\n",
       "      <th>std</th>\n",
       "      <td>0.263273</td>\n",
       "      <td>0.213484</td>\n",
       "      <td>0.382815</td>\n",
       "      <td>0.174769</td>\n",
       "      <td>0.419873</td>\n",
       "      <td>0.160360</td>\n",
       "      <td>0.305660</td>\n",
       "      <td>0.239418</td>\n",
       "      <td>0.490549</td>\n",
       "      <td>0.455664</td>\n",
       "    </tr>\n",
       "    <tr>\n",
       "      <th>min</th>\n",
       "      <td>0.000000</td>\n",
       "      <td>0.000000</td>\n",
       "      <td>0.000000</td>\n",
       "      <td>0.000000</td>\n",
       "      <td>0.000000</td>\n",
       "      <td>0.000000</td>\n",
       "      <td>0.000000</td>\n",
       "      <td>0.000000</td>\n",
       "      <td>0.000000</td>\n",
       "      <td>0.000000</td>\n",
       "    </tr>\n",
       "    <tr>\n",
       "      <th>25%</th>\n",
       "      <td>0.279070</td>\n",
       "      <td>0.143519</td>\n",
       "      <td>0.000000</td>\n",
       "      <td>0.070000</td>\n",
       "      <td>0.000000</td>\n",
       "      <td>0.000000</td>\n",
       "      <td>0.000000</td>\n",
       "      <td>0.000000</td>\n",
       "      <td>0.000000</td>\n",
       "      <td>0.000000</td>\n",
       "    </tr>\n",
       "    <tr>\n",
       "      <th>50%</th>\n",
       "      <td>0.511628</td>\n",
       "      <td>0.259259</td>\n",
       "      <td>0.333333</td>\n",
       "      <td>0.150000</td>\n",
       "      <td>0.500000</td>\n",
       "      <td>0.000000</td>\n",
       "      <td>0.000000</td>\n",
       "      <td>0.000000</td>\n",
       "      <td>1.000000</td>\n",
       "      <td>0.000000</td>\n",
       "    </tr>\n",
       "    <tr>\n",
       "      <th>75%</th>\n",
       "      <td>0.720930</td>\n",
       "      <td>0.416667</td>\n",
       "      <td>0.666667</td>\n",
       "      <td>0.260000</td>\n",
       "      <td>1.000000</td>\n",
       "      <td>0.159055</td>\n",
       "      <td>0.000000</td>\n",
       "      <td>0.000000</td>\n",
       "      <td>1.000000</td>\n",
       "      <td>1.000000</td>\n",
       "    </tr>\n",
       "    <tr>\n",
       "      <th>max</th>\n",
       "      <td>1.000000</td>\n",
       "      <td>1.000000</td>\n",
       "      <td>1.000000</td>\n",
       "      <td>1.000000</td>\n",
       "      <td>1.000000</td>\n",
       "      <td>1.000000</td>\n",
       "      <td>1.000000</td>\n",
       "      <td>1.000000</td>\n",
       "      <td>1.000000</td>\n",
       "      <td>1.000000</td>\n",
       "    </tr>\n",
       "  </tbody>\n",
       "</table>\n",
       "</div>"
      ],
      "text/plain": [
       "                 0            1            2            3            4  \\\n",
       "count  4948.000000  4948.000000  4948.000000  4948.000000  4948.000000   \n",
       "mean      0.501330     0.304697     0.463824     0.193593     0.439470   \n",
       "std       0.263273     0.213484     0.382815     0.174769     0.419873   \n",
       "min       0.000000     0.000000     0.000000     0.000000     0.000000   \n",
       "25%       0.279070     0.143519     0.000000     0.070000     0.000000   \n",
       "50%       0.511628     0.259259     0.333333     0.150000     0.500000   \n",
       "75%       0.720930     0.416667     0.666667     0.260000     1.000000   \n",
       "max       1.000000     1.000000     1.000000     1.000000     1.000000   \n",
       "\n",
       "                 5            6            7            8            9  \n",
       "count  4948.000000  4948.000000  4948.000000  4948.000000  4948.000000  \n",
       "mean      0.089188     0.104285     0.061035     0.597009     0.294058  \n",
       "std       0.160360     0.305660     0.239418     0.490549     0.455664  \n",
       "min       0.000000     0.000000     0.000000     0.000000     0.000000  \n",
       "25%       0.000000     0.000000     0.000000     0.000000     0.000000  \n",
       "50%       0.000000     0.000000     0.000000     1.000000     0.000000  \n",
       "75%       0.159055     0.000000     0.000000     1.000000     1.000000  \n",
       "max       1.000000     1.000000     1.000000     1.000000     1.000000  "
      ]
     },
     "execution_count": 29,
     "metadata": {},
     "output_type": "execute_result"
    }
   ],
   "source": [
    "Xd = X.drop('Experience', axis = 1)\n",
    "Xd\n",
    "\n",
    "\n",
    "# standardization of variables\n",
    "min_max_scaler = MinMaxScaler()\n",
    "Xds = min_max_scaler.fit_transform(Xd)\n",
    "\n",
    "pd.DataFrame(Xds).describe()\n"
   ]
  },
  {
   "cell_type": "code",
   "execution_count": 30,
   "id": "f5e52fa7-f4d6-4d1f-a519-52788a4eabd5",
   "metadata": {
    "execution": {
     "iopub.execute_input": "2023-02-25T15:32:43.732899Z",
     "iopub.status.busy": "2023-02-25T15:32:43.732899Z",
     "iopub.status.idle": "2023-02-25T15:32:43.746860Z",
     "shell.execute_reply": "2023-02-25T15:32:43.745863Z",
     "shell.execute_reply.started": "2023-02-25T15:32:43.732899Z"
    }
   },
   "outputs": [],
   "source": [
    "Xds_train, Xds_test, y_train, y_test = train_test_split(Xds, y, test_size=0.30, random_state=1)\n"
   ]
  },
  {
   "cell_type": "code",
   "execution_count": 31,
   "id": "0a253769-d0ad-4438-b70c-54e148a7da55",
   "metadata": {
    "execution": {
     "iopub.execute_input": "2023-02-25T15:32:43.746860Z",
     "iopub.status.busy": "2023-02-25T15:32:43.746860Z",
     "iopub.status.idle": "2023-02-25T15:32:44.859844Z",
     "shell.execute_reply": "2023-02-25T15:32:44.859844Z",
     "shell.execute_reply.started": "2023-02-25T15:32:43.746860Z"
    }
   },
   "outputs": [
    {
     "name": "stdout",
     "output_type": "stream",
     "text": [
      "Fitting 3 folds for each of 80 candidates, totalling 240 fits\n",
      "GridSearchCV(cv=3,\n",
      "             estimator=Pipeline(steps=[('classifier', LogisticRegression())]),\n",
      "             n_jobs=-1,\n",
      "             param_grid=[{'classifier': [LogisticRegression(C=11.288378916846883,\n",
      "                                                            solver='newton-cg')],\n",
      "                          'classifier__C': array([1.00000000e-04, 2.63665090e-04, 6.95192796e-04, 1.83298071e-03,\n",
      "       4.83293024e-03, 1.27427499e-02, 3.35981829e-02, 8.85866790e-02,\n",
      "       2.33572147e-01, 6.15848211e-01, 1.62377674e+00, 4.28133240e+00,\n",
      "       1.12883789e+01, 2.97635144e+01, 7.84759970e+01, 2.06913808e+02,\n",
      "       5.45559478e+02, 1.43844989e+03, 3.79269019e+03, 1.00000000e+04]),\n",
      "                          'classifier__penalty': ['l2'],\n",
      "                          'classifier__solver': ['liblinear', 'newton-cg',\n",
      "                                                 'sag', 'lbfgs']}],\n",
      "             verbose=True)\n"
     ]
    }
   ],
   "source": [
    "# Create first pipeline for base without reducing features.\n",
    "# from sklearn.pipeline import Pipeline\n",
    "# from sklearn.model_selection import GridSearchCV\n",
    "\n",
    "pipe = Pipeline([('classifier' , LogisticRegression())])\n",
    "\n",
    "# Create param grid.\n",
    "\n",
    "param_grid = [\n",
    "    {'classifier' : [LogisticRegression()],\n",
    "     'classifier__penalty' : ['l2'],\n",
    "    'classifier__C' : np.logspace(-4, 4, 20),\n",
    "    'classifier__solver' : ['liblinear','newton-cg', 'sag', 'lbfgs' ]}\n",
    "]\n",
    "\n",
    "# Create grid search object\n",
    "\n",
    "clf = GridSearchCV(pipe, param_grid = param_grid, cv = 3, verbose=True, n_jobs=-1)\n",
    "\n",
    "# Fit on data\n",
    "\n",
    "lr_model_ds = clf.fit(Xds_train, y_train)\n",
    "\n",
    "print(lr_model_ds)"
   ]
  },
  {
   "cell_type": "code",
   "execution_count": 32,
   "id": "000853ee-108b-4102-a7aa-324d4f09bac9",
   "metadata": {
    "execution": {
     "iopub.execute_input": "2023-02-25T15:32:44.860810Z",
     "iopub.status.busy": "2023-02-25T15:32:44.860810Z",
     "iopub.status.idle": "2023-02-25T15:32:44.964236Z",
     "shell.execute_reply": "2023-02-25T15:32:44.964236Z",
     "shell.execute_reply.started": "2023-02-25T15:32:44.860810Z"
    }
   },
   "outputs": [
    {
     "name": "stdout",
     "output_type": "stream",
     "text": [
      "Accuracy of test data: 0.843 \n",
      "95.17759168351141\n",
      "95.48821548821549\n",
      "[[1324   16]\n",
      " [  51   94]]\n",
      "              precision    recall  f1-score   support\n",
      "\n",
      "           0       0.96      0.99      0.98      1340\n",
      "           1       0.85      0.65      0.74       145\n",
      "\n",
      "    accuracy                           0.95      1485\n",
      "   macro avg       0.91      0.82      0.86      1485\n",
      "weighted avg       0.95      0.95      0.95      1485\n",
      "\n"
     ]
    }
   ],
   "source": [
    "# Build model with logistic regression\n",
    "lr_model_ds = LogisticReg(C=11.288378916846883,solver='newton-cg')\n",
    "lr_model_ds.fit(Xds_train,y_train)\n",
    "\n",
    "\n",
    "# predict the class label\n",
    "yhat = lr_model_ds.model.predict(Xds_test)\n",
    "# summarize the predicted class\n",
    "# print('Predicted Class: %d' % yhat[0])\n",
    "y_diff = yhat == y_test\n",
    "unique, counts = np.unique(y_diff, return_counts=True)\n",
    "print('Accuracy of test data: %.3f ' % (counts[1]/(counts[0] + counts[1])))\n",
    "\n",
    "print(lr_model_ds.model.score(Xds_train,y_train)*100)\n",
    "print(accuracy_score(y_test, yhat)*100)\n",
    "print(confusion_matrix(y_test, yhat))\n",
    "print(classification_report(y_test, yhat))"
   ]
  },
  {
   "cell_type": "code",
   "execution_count": 33,
   "id": "1ecb7b08-d91b-443c-8553-b198463833cd",
   "metadata": {
    "execution": {
     "iopub.execute_input": "2023-02-25T15:32:44.966218Z",
     "iopub.status.busy": "2023-02-25T15:32:44.965229Z",
     "iopub.status.idle": "2023-02-25T15:32:44.980150Z",
     "shell.execute_reply": "2023-02-25T15:32:44.979150Z",
     "shell.execute_reply.started": "2023-02-25T15:32:44.966218Z"
    }
   },
   "outputs": [
    {
     "name": "stdout",
     "output_type": "stream",
     "text": [
      "Features | Coef | P-value\n",
      "Age | 0.3502451527471387 | 0.2504233740201046\n",
      "Income | 11.16280756362248 | 4.43307809283448e-149\n",
      "Family | 1.9441673410135196 | 2.2760020669130464e-17\n",
      "CCAvg | 1.2768188330468648 | 0.006139832624308135\n",
      "Education | 3.17615983604297 | 5.458261614640941e-54\n",
      "Mortgage | 0.5744481790043688 | 0.15662365582973883\n",
      "Securities Account | -0.7893712191591613 | 0.01905705782336321\n",
      "CD Account | 3.8060558930719015 | 7.114318908346909e-23\n",
      "Online | -0.6697891322584686 | 0.0002562937412224783\n",
      "CreditCard | -1.2426587851427346 | 4.107350535734944e-07\n"
     ]
    }
   ],
   "source": [
    "print('Features', \"|\",'Coef', \"|\", 'P-value' )\n",
    "for i in range(len(Xd.columns)):\n",
    "    print(Xd.columns[i], \"|\",lr_model_ds.model.coef_[0,i], \"|\", lr_model_ds.p_values[i] )"
   ]
  },
  {
   "cell_type": "markdown",
   "id": "2a62de3b-b40f-4a61-9518-4ed58cab7da1",
   "metadata": {},
   "source": [
    "#### Plot ROC of Logistic Regression"
   ]
  },
  {
   "cell_type": "code",
   "execution_count": 34,
   "id": "74d7fd84-54cd-4b4a-8202-6f0b644ebea0",
   "metadata": {
    "execution": {
     "iopub.execute_input": "2023-02-25T15:32:44.981274Z",
     "iopub.status.busy": "2023-02-25T15:32:44.980150Z",
     "iopub.status.idle": "2023-02-25T15:32:45.188620Z",
     "shell.execute_reply": "2023-02-25T15:32:45.188620Z",
     "shell.execute_reply.started": "2023-02-25T15:32:44.981274Z"
    }
   },
   "outputs": [
    {
     "name": "stdout",
     "output_type": "stream",
     "text": [
      "AUC Score (Test): 0.960345\n"
     ]
    },
    {
     "data": {
      "image/png": "[encoded data removed]",
      "text/plain": [
       "<Figure size 792x576 with 1 Axes>"
      ]
     },
     "metadata": {},
     "output_type": "display_data"
    },
    {
     "data": {
      "text/plain": [
       "<ggplot: (96656360930)>"
      ]
     },
     "execution_count": 34,
     "metadata": {},
     "output_type": "execute_result"
    }
   ],
   "source": [
    "# Plot ROC \n",
    "\n",
    "# import sklearn.metrics as metrics\n",
    "# calculate the fpr and tpr for all thresholds of the classification\n",
    "# from ggplot import *\n",
    "\n",
    "lr_ds_probs = lr_model_ds.model.predict_proba(Xds_test)\n",
    "lr_ds_preds = lr_ds_probs[:,1]\n",
    "fpr, tpr, threshold = metrics.roc_curve(y_test,lr_ds_preds)\n",
    "roc_auc = metrics.auc(fpr, tpr)\n",
    "\n",
    "print(\"AUC Score (Test): %f\" % metrics.roc_auc_score(y_test, lr_ds_preds))\n",
    "\n",
    "df = pd.DataFrame(dict(fpr = fpr, tpr = tpr))\n",
    "ggplot(df, aes(x = 'fpr', y = 'tpr')) + geom_line() + geom_abline(linetype = 'dashed') + \\\n",
    "scale_x_continuous(expand = [0, 0], limits = [0,1]) + \\\n",
    "scale_y_continuous(expand = [0, 0], limits = [0,1])"
   ]
  },
  {
   "cell_type": "markdown",
   "id": "da36ad76-e76b-4553-873c-f01af20c3d17",
   "metadata": {},
   "source": [
    "#### Drop Age"
   ]
  },
  {
   "cell_type": "code",
   "execution_count": 35,
   "id": "43d59cb6-5fe1-4d2b-bd49-28de442da883",
   "metadata": {
    "execution": {
     "iopub.execute_input": "2023-02-25T15:32:45.190610Z",
     "iopub.status.busy": "2023-02-25T15:32:45.190610Z",
     "iopub.status.idle": "2023-02-25T15:32:46.153467Z",
     "shell.execute_reply": "2023-02-25T15:32:46.153467Z",
     "shell.execute_reply.started": "2023-02-25T15:32:45.190610Z"
    }
   },
   "outputs": [
    {
     "name": "stdout",
     "output_type": "stream",
     "text": [
      "Fitting 3 folds for each of 80 candidates, totalling 240 fits\n",
      "GridSearchCV(cv=3,\n",
      "             estimator=Pipeline(steps=[('classifier', LogisticRegression())]),\n",
      "             n_jobs=-1,\n",
      "             param_grid=[{'classifier': [LogisticRegression(C=78.47599703514607,\n",
      "                                                            solver='liblinear')],\n",
      "                          'classifier__C': array([1.00000000e-04, 2.63665090e-04, 6.95192796e-04, 1.83298071e-03,\n",
      "       4.83293024e-03, 1.27427499e-02, 3.35981829e-02, 8.85866790e-02,\n",
      "       2.33572147e-01, 6.15848211e-01, 1.62377674e+00, 4.28133240e+00,\n",
      "       1.12883789e+01, 2.97635144e+01, 7.84759970e+01, 2.06913808e+02,\n",
      "       5.45559478e+02, 1.43844989e+03, 3.79269019e+03, 1.00000000e+04]),\n",
      "                          'classifier__penalty': ['l2'],\n",
      "                          'classifier__solver': ['liblinear', 'newton-cg',\n",
      "                                                 'sag', 'lbfgs']}],\n",
      "             verbose=True)\n"
     ]
    }
   ],
   "source": [
    "Xd = Xd.drop('Age', axis = 1)\n",
    "Xd\n",
    "\n",
    "\n",
    "# standardization of variables\n",
    "min_max_scaler = MinMaxScaler()\n",
    "Xds = min_max_scaler.fit_transform(Xd)\n",
    "\n",
    "pd.DataFrame(Xds).describe()\n",
    "\n",
    "\n",
    "Xds_train, Xds_test, y_train, y_test = train_test_split(Xds, y, test_size=0.30, random_state=1)\n",
    "\n",
    "\n",
    "pipe = Pipeline([('classifier' , LogisticRegression())])\n",
    "\n",
    "# Create param grid.\n",
    "\n",
    "param_grid = [\n",
    "    {'classifier' : [LogisticRegression()],\n",
    "     'classifier__penalty' : ['l2'],\n",
    "    'classifier__C' : np.logspace(-4, 4, 20),\n",
    "    'classifier__solver' : ['liblinear','newton-cg', 'sag', 'lbfgs' ]}\n",
    "]\n",
    "\n",
    "# Create grid search object\n",
    "\n",
    "clf = GridSearchCV(pipe, param_grid = param_grid, cv = 3, verbose=True, n_jobs=-1)\n",
    "\n",
    "# Fit on data\n",
    "\n",
    "lr_model_ds = clf.fit(Xds_train, y_train)\n",
    "\n",
    "print(lr_model_ds)"
   ]
  },
  {
   "cell_type": "code",
   "execution_count": 36,
   "id": "c1331e6a-4951-422b-b5e5-fe35f9a91f55",
   "metadata": {
    "execution": {
     "iopub.execute_input": "2023-02-25T15:32:46.155382Z",
     "iopub.status.busy": "2023-02-25T15:32:46.154390Z",
     "iopub.status.idle": "2023-02-25T15:32:46.393294Z",
     "shell.execute_reply": "2023-02-25T15:32:46.393294Z",
     "shell.execute_reply.started": "2023-02-25T15:32:46.155382Z"
    }
   },
   "outputs": [
    {
     "name": "stdout",
     "output_type": "stream",
     "text": [
      "Accuracy of test data: 0.841 \n",
      "95.06208489748774\n",
      "95.42087542087542\n",
      "[[1322   18]\n",
      " [  50   95]]\n",
      "              precision    recall  f1-score   support\n",
      "\n",
      "           0       0.96      0.99      0.97      1340\n",
      "           1       0.84      0.66      0.74       145\n",
      "\n",
      "    accuracy                           0.95      1485\n",
      "   macro avg       0.90      0.82      0.86      1485\n",
      "weighted avg       0.95      0.95      0.95      1485\n",
      "\n",
      "Features | Coef | P-value\n",
      "Income | 11.481408950701674 | 3.887723631226292e-178\n",
      "Family | 1.9804411607681864 | 5.763694291795713e-18\n",
      "CCAvg | 1.1482340981220058 | 0.01488990442401488\n",
      "Education | 3.2515407963082623 | 4.377154467056223e-60\n",
      "Mortgage | 0.5602949769433826 | 0.1712787053712661\n",
      "Securities Account | -0.8182786550259137 | 0.016535656336210423\n",
      "CD Account | 3.91874348186332 | 1.3926926954182993e-23\n",
      "Online | -0.6884412326940722 | 0.00019993344568407343\n",
      "CreditCard | -1.2774282511267592 | 2.868757995149856e-07\n",
      "AUC Score (Test): 0.960648\n"
     ]
    },
    {
     "data": {
      "image/png": "[encoded data removed]",
      "text/plain": [
       "<Figure size 792x576 with 1 Axes>"
      ]
     },
     "metadata": {},
     "output_type": "display_data"
    },
    {
     "data": {
      "text/plain": [
       "<ggplot: (96656369869)>"
      ]
     },
     "execution_count": 36,
     "metadata": {},
     "output_type": "execute_result"
    }
   ],
   "source": [
    "# Build model with logistic regression\n",
    "lr_model_ds = LogisticReg(C=78.47599703514607,solver='liblinear')\n",
    "lr_model_ds.fit(Xds_train,y_train)\n",
    "\n",
    "\n",
    "# predict the class label\n",
    "yhat = lr_model_ds.model.predict(Xds_test)\n",
    "# summarize the predicted class\n",
    "# print('Predicted Class: %d' % yhat[0])\n",
    "y_diff = yhat == y_test\n",
    "unique, counts = np.unique(y_diff, return_counts=True)\n",
    "print('Accuracy of test data: %.3f ' % (counts[1]/(counts[0] + counts[1])))\n",
    "\n",
    "print(lr_model_ds.model.score(Xds_train,y_train)*100)\n",
    "print(accuracy_score(y_test, yhat)*100)\n",
    "print(confusion_matrix(y_test, yhat))\n",
    "print(classification_report(y_test, yhat))\n",
    "\n",
    "print('Features', \"|\",'Coef', \"|\", 'P-value' )\n",
    "for i in range(len(Xd.columns)):\n",
    "    print(Xd.columns[i], \"|\",lr_model_ds.model.coef_[0,i], \"|\", lr_model_ds.p_values[i] )\n",
    "    \n",
    "# Plot ROC \n",
    "\n",
    "# import sklearn.metrics as metrics\n",
    "# calculate the fpr and tpr for all thresholds of the classification\n",
    "# from ggplot import *\n",
    "\n",
    "lr_ds_probs = lr_model_ds.model.predict_proba(Xds_test)\n",
    "lr_ds_preds = lr_ds_probs[:,1]\n",
    "fpr, tpr, threshold = metrics.roc_curve(y_test,lr_ds_preds)\n",
    "roc_auc = metrics.auc(fpr, tpr)\n",
    "\n",
    "print(\"AUC Score (Test): %f\" % metrics.roc_auc_score(y_test, lr_ds_preds))\n",
    "\n",
    "df = pd.DataFrame(dict(fpr = fpr, tpr = tpr))\n",
    "ggplot(df, aes(x = 'fpr', y = 'tpr')) + geom_line() + geom_abline(linetype = 'dashed') + \\\n",
    "scale_x_continuous(expand = [0, 0], limits = [0,1]) + \\\n",
    "scale_y_continuous(expand = [0, 0], limits = [0,1])"
   ]
  },
  {
   "cell_type": "markdown",
   "id": "c0e8b360-2c47-442e-942c-dbbfe349abd2",
   "metadata": {},
   "source": [
    "#### Drop Mortgage "
   ]
  },
  {
   "cell_type": "code",
   "execution_count": 37,
   "id": "6e2ee899-31f4-4140-8b25-7314fd58a176",
   "metadata": {
    "execution": {
     "iopub.execute_input": "2023-02-25T15:32:46.395274Z",
     "iopub.status.busy": "2023-02-25T15:32:46.395274Z",
     "iopub.status.idle": "2023-02-25T15:32:47.328368Z",
     "shell.execute_reply": "2023-02-25T15:32:47.327531Z",
     "shell.execute_reply.started": "2023-02-25T15:32:46.395274Z"
    }
   },
   "outputs": [
    {
     "name": "stdout",
     "output_type": "stream",
     "text": [
      "Fitting 3 folds for each of 80 candidates, totalling 240 fits\n",
      "GridSearchCV(cv=3,\n",
      "             estimator=Pipeline(steps=[('classifier', LogisticRegression())]),\n",
      "             n_jobs=-1,\n",
      "             param_grid=[{'classifier': [LogisticRegression(C=1.623776739188721,\n",
      "                                                            solver='newton-cg')],\n",
      "                          'classifier__C': array([1.00000000e-04, 2.63665090e-04, 6.95192796e-04, 1.83298071e-03,\n",
      "       4.83293024e-03, 1.27427499e-02, 3.35981829e-02, 8.85866790e-02,\n",
      "       2.33572147e-01, 6.15848211e-01, 1.62377674e+00, 4.28133240e+00,\n",
      "       1.12883789e+01, 2.97635144e+01, 7.84759970e+01, 2.06913808e+02,\n",
      "       5.45559478e+02, 1.43844989e+03, 3.79269019e+03, 1.00000000e+04]),\n",
      "                          'classifier__penalty': ['l2'],\n",
      "                          'classifier__solver': ['liblinear', 'newton-cg',\n",
      "                                                 'sag', 'lbfgs']}],\n",
      "             verbose=True)\n"
     ]
    }
   ],
   "source": [
    "Xd = Xd.drop('Mortgage', axis = 1)\n",
    "Xd\n",
    "\n",
    "\n",
    "# standardization of variables\n",
    "min_max_scaler = MinMaxScaler()\n",
    "Xds = min_max_scaler.fit_transform(Xd)\n",
    "\n",
    "pd.DataFrame(Xds).describe()\n",
    "\n",
    "\n",
    "Xds_train, Xds_test, y_train, y_test = train_test_split(Xds, y, test_size=0.30, random_state=1)\n",
    "\n",
    "\n",
    "pipe = Pipeline([('classifier' , LogisticRegression())])\n",
    "\n",
    "# Create param grid.\n",
    "\n",
    "param_grid = [\n",
    "    {'classifier' : [LogisticRegression()],\n",
    "     'classifier__penalty' : ['l2'],\n",
    "    'classifier__C' : np.logspace(-4, 4, 20),\n",
    "    'classifier__solver' : ['liblinear','newton-cg', 'sag', 'lbfgs' ]}\n",
    "]\n",
    "\n",
    "# Create grid search object\n",
    "\n",
    "clf = GridSearchCV(pipe, param_grid = param_grid, cv = 3, verbose=True, n_jobs=-1)\n",
    "\n",
    "# Fit on data\n",
    "\n",
    "lr_model_ds = clf.fit(Xds_train, y_train)\n",
    "\n",
    "print(lr_model_ds)"
   ]
  },
  {
   "cell_type": "code",
   "execution_count": 38,
   "id": "fb874ebc-b0e8-48af-a046-8eea7eb5264e",
   "metadata": {
    "execution": {
     "iopub.execute_input": "2023-02-25T15:32:47.329364Z",
     "iopub.status.busy": "2023-02-25T15:32:47.328368Z",
     "iopub.status.idle": "2023-02-25T15:32:47.627276Z",
     "shell.execute_reply": "2023-02-25T15:32:47.627183Z",
     "shell.execute_reply.started": "2023-02-25T15:32:47.329364Z"
    }
   },
   "outputs": [
    {
     "name": "stdout",
     "output_type": "stream",
     "text": [
      "Accuracy of test data: 0.846 \n",
      "95.00433150447589\n",
      "95.35353535353536\n",
      "[[1326   14]\n",
      " [  55   90]]\n",
      "              precision    recall  f1-score   support\n",
      "\n",
      "           0       0.96      0.99      0.97      1340\n",
      "           1       0.87      0.62      0.72       145\n",
      "\n",
      "    accuracy                           0.95      1485\n",
      "   macro avg       0.91      0.81      0.85      1485\n",
      "weighted avg       0.95      0.95      0.95      1485\n",
      "\n",
      "Features | Coef | P-value\n",
      "Income | 9.395907431911393 | 1.3031867928232133e-148\n",
      "Family | 1.6588983031852313 | 2.6379583694144517e-15\n",
      "CCAvg | 1.4449546682973342 | 0.0010239915768565531\n",
      "Education | 2.707634524037221 | 1.8665523915066976e-49\n",
      "Securities Account | -0.6629927786246755 | 0.032811236531604594\n",
      "CD Account | 3.3424712618329715 | 4.511071377789035e-21\n",
      "Online | -0.5698812578181885 | 0.0008233599345296252\n",
      "CreditCard | -1.079591492929177 | 2.1549254176634043e-06\n",
      "AUC Score (Test): 0.961415\n"
     ]
    },
    {
     "data": {
      "image/png": "[encoded data removed]",
      "text/plain": [
       "<Figure size 792x576 with 1 Axes>"
      ]
     },
     "metadata": {},
     "output_type": "display_data"
    },
    {
     "data": {
      "text/plain": [
       "<ggplot: (96656398361)>"
      ]
     },
     "execution_count": 38,
     "metadata": {},
     "output_type": "execute_result"
    }
   ],
   "source": [
    "# Build model with logistic regression\n",
    "lr_model_ds = LogisticReg(C=1.623776739188721,solver='newton-cg')\n",
    "lr_model_ds.fit(Xds_train,y_train)\n",
    "\n",
    "\n",
    "# predict the class label\n",
    "yhat = lr_model_ds.model.predict(Xds_test)\n",
    "# summarize the predicted class\n",
    "# print('Predicted Class: %d' % yhat[0])\n",
    "y_diff = yhat == y_test\n",
    "unique, counts = np.unique(y_diff, return_counts=True)\n",
    "print('Accuracy of test data: %.3f ' % (counts[1]/(counts[0] + counts[1])))\n",
    "\n",
    "print(lr_model_ds.model.score(Xds_train,y_train)*100)\n",
    "print(accuracy_score(y_test, yhat)*100)\n",
    "print(confusion_matrix(y_test, yhat))\n",
    "print(classification_report(y_test, yhat))\n",
    "\n",
    "print('Features', \"|\",'Coef', \"|\", 'P-value' )\n",
    "for i in range(len(Xd.columns)):\n",
    "    print(Xd.columns[i], \"|\",lr_model_ds.model.coef_[0,i], \"|\", lr_model_ds.p_values[i] )\n",
    "    \n",
    "# Plot ROC \n",
    "\n",
    "# import sklearn.metrics as metrics\n",
    "# calculate the fpr and tpr for all thresholds of the classification\n",
    "# from ggplot import *\n",
    "\n",
    "lr_ds_probs = lr_model_ds.model.predict_proba(Xds_test)\n",
    "lr_ds_preds = lr_ds_probs[:,1]\n",
    "fpr, tpr, threshold = metrics.roc_curve(y_test,lr_ds_preds)\n",
    "roc_auc = metrics.auc(fpr, tpr)\n",
    "\n",
    "print(\"AUC Score (Test): %f\" % metrics.roc_auc_score(y_test, lr_ds_preds))\n",
    "\n",
    "df = pd.DataFrame(dict(fpr = fpr, tpr = tpr))\n",
    "ggplot(df, aes(x = 'fpr', y = 'tpr')) + geom_line() + geom_abline(linetype = 'dashed') + \\\n",
    "scale_x_continuous(expand = [0, 0], limits = [0,1]) + \\\n",
    "scale_y_continuous(expand = [0, 0], limits = [0,1])"
   ]
  },
  {
   "cell_type": "markdown",
   "id": "67acfe02-fd03-40c5-843f-6f12023168c6",
   "metadata": {
    "tags": []
   },
   "source": [
    "## Build Random Forest Model with Default Parameter"
   ]
  },
  {
   "cell_type": "code",
   "execution_count": 70,
   "id": "5f170a4d-1845-4e2d-9f92-caa12668f692",
   "metadata": {
    "execution": {
     "iopub.execute_input": "2023-02-27T07:22:22.638206Z",
     "iopub.status.busy": "2023-02-27T07:22:22.638206Z",
     "iopub.status.idle": "2023-02-27T07:22:23.109567Z",
     "shell.execute_reply": "2023-02-27T07:22:23.109567Z",
     "shell.execute_reply.started": "2023-02-27T07:22:22.638206Z"
    },
    "tags": []
   },
   "outputs": [
    {
     "name": "stdout",
     "output_type": "stream",
     "text": [
      "Accuracy (Train): 1\n",
      "AUC Score (Train): 1.000000\n",
      "Accuracy (test): 0.9845\n",
      "AUC Score (test): 0.997419\n"
     ]
    }
   ],
   "source": [
    "rfc = RandomForestClassifier()#Use default hyper paramenters\n",
    "rfc.fit(Xs_train,y_train)#fit the model\n",
    "\n",
    "\n",
    "# Performance on Training data\n",
    "y_train, y_train_pred = y_train, rfc.predict(Xs_train)\n",
    "print(\"Accuracy (Train): %.4g\" % metrics.accuracy_score(y_train, y_train_pred))\n",
    "\n",
    "y_train_proba = rfc.predict_proba(Xs_train)[:,1]\n",
    "print(\"AUC Score (Train): %f\" % metrics.roc_auc_score(y_train, y_train_proba))\n",
    "\n",
    "\n",
    "# Performance on Test data\n",
    "y_test, y_test_pred = y_test, rfc.predict(Xs_test)\n",
    "print(\"Accuracy (test): %.4g\" % metrics.accuracy_score(y_test, y_test_pred))\n",
    "\n",
    "y_test_proba = rfc.predict_proba(Xs_test)[:,1]\n",
    "print(\"AUC Score (test): %f\" % metrics.roc_auc_score(y_test, y_test_proba))"
   ]
  },
  {
   "cell_type": "code",
   "execution_count": 71,
   "id": "66f0055b-4f8b-4de7-8c56-912148b842b2",
   "metadata": {
    "execution": {
     "iopub.execute_input": "2023-02-27T07:23:14.137056Z",
     "iopub.status.busy": "2023-02-27T07:23:14.136058Z",
     "iopub.status.idle": "2023-02-27T07:23:14.170964Z",
     "shell.execute_reply": "2023-02-27T07:23:14.170964Z",
     "shell.execute_reply.started": "2023-02-27T07:23:14.137056Z"
    },
    "tags": []
   },
   "outputs": [
    {
     "name": "stdout",
     "output_type": "stream",
     "text": [
      "Feature ranking of model:\n",
      "1. feature 2 | Income | (0.346194)\n",
      "2. feature 5 | Education | (0.187451)\n",
      "3. feature 4 | CCAvg | (0.179854)\n",
      "4. feature 3 | Family | (0.109498)\n",
      "5. feature 8 | CD Account | (0.045730)\n",
      "6. feature 0 | Age | (0.038638)\n",
      "7. feature 1 | Experience | (0.037673)\n",
      "8. feature 6 | Mortgage | (0.035782)\n",
      "9. feature 10 | CreditCard | (0.008026)\n",
      "10. feature 9 | Online | (0.007174)\n",
      "11. feature 7 | Securities Account | (0.003981)\n"
     ]
    }
   ],
   "source": [
    "# check var importance\n",
    "# print(RF_Model.feature_importances_)\n",
    "\n",
    "importances = rfc.feature_importances_\n",
    "\n",
    "# std = np.std([RF_Model.feature_importances_ for tree in RF_Model.estimators_], axis=0)\n",
    "indices = np.argsort(importances)[::-1]\n",
    "\n",
    "# Print the feature ranking\n",
    "print(\"Feature ranking of model:\")\n",
    "\n",
    "for f in range(X_train.shape[1]):\n",
    "    print(\"%d. feature %d | %s | (%f)\" % (f + 1, indices[f],  X_train.columns[indices[f]], importances[indices[f]]))\n",
    "   \n",
    "\n",
    "\n",
    "top_feature =[]\n",
    "for i in range(10):\n",
    "    top_feature.append(X_train.columns[indices[i]])\n",
    "\n",
    "# print(top_feature)"
   ]
  },
  {
   "cell_type": "code",
   "execution_count": 72,
   "id": "044916b9-2c50-4351-91f6-65e316cc778f",
   "metadata": {
    "execution": {
     "iopub.execute_input": "2023-02-27T07:23:20.331755Z",
     "iopub.status.busy": "2023-02-27T07:23:20.331149Z",
     "iopub.status.idle": "2023-02-27T07:23:20.349655Z",
     "shell.execute_reply": "2023-02-27T07:23:20.348749Z",
     "shell.execute_reply.started": "2023-02-27T07:23:20.331755Z"
    },
    "tags": []
   },
   "outputs": [
    {
     "data": {
      "text/plain": [
       "['Income',\n",
       " 'Education',\n",
       " 'CCAvg',\n",
       " 'Family',\n",
       " 'CD Account',\n",
       " 'Age',\n",
       " 'Experience',\n",
       " 'Mortgage',\n",
       " 'CreditCard',\n",
       " 'Online']"
      ]
     },
     "execution_count": 72,
     "metadata": {},
     "output_type": "execute_result"
    }
   ],
   "source": [
    "top_feature"
   ]
  },
  {
   "cell_type": "code",
   "execution_count": 74,
   "id": "b07b23be-dc07-4667-8791-aeab0d4ccece",
   "metadata": {
    "execution": {
     "iopub.execute_input": "2023-02-27T07:23:40.678445Z",
     "iopub.status.busy": "2023-02-27T07:23:40.677448Z",
     "iopub.status.idle": "2023-02-27T07:23:40.936543Z",
     "shell.execute_reply": "2023-02-27T07:23:40.936543Z",
     "shell.execute_reply.started": "2023-02-27T07:23:40.678445Z"
    },
    "tags": []
   },
   "outputs": [
    {
     "data": {
      "image/png": "[encoded data removed]",
      "text/plain": [
       "<Figure size 792x576 with 1 Axes>"
      ]
     },
     "metadata": {},
     "output_type": "display_data"
    },
    {
     "data": {
      "text/plain": [
       "<ggplot: (96664939499)>"
      ]
     },
     "execution_count": 74,
     "metadata": {},
     "output_type": "execute_result"
    }
   ],
   "source": [
    "# Plot ROC \n",
    "\n",
    "# import sklearn.metrics as metrics\n",
    "# calculate the fpr and tpr for all thresholds of the classification\n",
    "\n",
    "\n",
    "probs = rfc.predict_proba(Xs_test)\n",
    "preds = probs[:,1]\n",
    "fpr, tpr, threshold = metrics.roc_curve(y_test, preds)\n",
    "roc_auc = metrics.auc(fpr, tpr)\n",
    "\n",
    "\n",
    "df = pd.DataFrame(dict(fpr = fpr, tpr = tpr))\n",
    "ggplot(df, aes(x = 'fpr', y = 'tpr')) + geom_line() + geom_abline(linetype = 'dashed') + \\\n",
    "scale_x_continuous(expand = [0, 0], limits = [0,1]) + \\\n",
    "scale_y_continuous(expand = [0, 0], limits = [0,1])"
   ]
  },
  {
   "cell_type": "code",
   "execution_count": 75,
   "id": "fea89335-abf7-41d2-ba7e-9d369133c548",
   "metadata": {
    "execution": {
     "iopub.execute_input": "2023-02-27T07:23:59.724887Z",
     "iopub.status.busy": "2023-02-27T07:23:59.723891Z",
     "iopub.status.idle": "2023-02-27T07:23:59.782190Z",
     "shell.execute_reply": "2023-02-27T07:23:59.782190Z",
     "shell.execute_reply.started": "2023-02-27T07:23:59.723891Z"
    },
    "tags": []
   },
   "outputs": [
    {
     "name": "stdout",
     "output_type": "stream",
     "text": [
      "[[1338    2]\n",
      " [  21  124]]\n",
      "              precision    recall  f1-score   support\n",
      "\n",
      "           0       0.98      1.00      0.99      1340\n",
      "           1       0.98      0.86      0.92       145\n",
      "\n",
      "    accuracy                           0.98      1485\n",
      "   macro avg       0.98      0.93      0.95      1485\n",
      "weighted avg       0.98      0.98      0.98      1485\n",
      "\n"
     ]
    }
   ],
   "source": [
    "#print confusion matrix\n",
    "y_pred = (rfc.predict_proba(Xs_test)[:,1]>0.5).astype(int)\n",
    "print(metrics.confusion_matrix(y_test, y_pred))\n",
    "# Printing the precision and recall, among other metrics\n",
    "print(metrics.classification_report(y_test, y_pred))"
   ]
  },
  {
   "cell_type": "markdown",
   "id": "95a41be1-5236-471c-a0b3-e2ec80bc5c40",
   "metadata": {},
   "source": [
    "## Random Forest with reduced variables"
   ]
  },
  {
   "cell_type": "code",
   "execution_count": 81,
   "id": "3262ff29-a083-4c86-8597-2f4e72927df3",
   "metadata": {
    "execution": {
     "iopub.execute_input": "2023-03-01T14:09:10.999526Z",
     "iopub.status.busy": "2023-03-01T14:09:10.998528Z",
     "iopub.status.idle": "2023-03-01T14:09:11.968440Z",
     "shell.execute_reply": "2023-03-01T14:09:11.968440Z",
     "shell.execute_reply.started": "2023-03-01T14:09:10.999526Z"
    },
    "tags": []
   },
   "outputs": [
    {
     "name": "stdout",
     "output_type": "stream",
     "text": [
      "Feature ranking of model:\n",
      "1. feature 0 | Income | (0.359090)\n",
      "2. feature 3 | Education | (0.230051)\n",
      "3. feature 2 | CCAvg | (0.174528)\n",
      "4. feature 1 | Family | (0.130522)\n",
      "5. feature 6 | CD Account | (0.047079)\n",
      "6. feature 4 | Mortgage | (0.034841)\n",
      "7. feature 8 | CreditCard | (0.010054)\n",
      "8. feature 7 | Online | (0.009406)\n",
      "9. feature 5 | Securities Account | (0.004428)\n",
      "[[1336    4]\n",
      " [  22  123]]\n",
      "              precision    recall  f1-score   support\n",
      "\n",
      "           0       0.98      1.00      0.99      1340\n",
      "           1       0.97      0.85      0.90       145\n",
      "\n",
      "    accuracy                           0.98      1485\n",
      "   macro avg       0.98      0.92      0.95      1485\n",
      "weighted avg       0.98      0.98      0.98      1485\n",
      "\n",
      "AUC Score (Test): 0.998060\n"
     ]
    },
    {
     "data": {
      "image/png": "[encoded data removed]",
      "text/plain": [
       "<Figure size 792x576 with 1 Axes>"
      ]
     },
     "metadata": {},
     "output_type": "display_data"
    },
    {
     "data": {
      "text/plain": [
       "<ggplot: (96664931967)>"
      ]
     },
     "execution_count": 81,
     "metadata": {},
     "output_type": "execute_result"
    }
   ],
   "source": [
    "# Drop variable 'Age'& 'Experience' to be comparable with logistic regression model\n",
    "\n",
    "\n",
    "Xd = X.drop(['Age','Experience'], axis = 1)\n",
    "\n",
    "# standardization of variables\n",
    "min_max_scaler = MinMaxScaler()\n",
    "Xds = min_max_scaler.fit_transform(Xd)\n",
    "\n",
    "pd.DataFrame(Xds).describe()\n",
    "\n",
    "Xds_train, Xds_test, y_train, y_test = train_test_split(Xds, y, test_size=0.30, random_state=1)\n",
    "\n",
    "\n",
    "\n",
    "rfc = RandomForestClassifier()#Use default hyper paramenters\n",
    "rfc.fit(Xds_train,y_train)#fit the model\n",
    "\n",
    "\n",
    "\n",
    "# check var importance\n",
    "# print(RF_Model.feature_importances_)\n",
    "\n",
    "importances = rfc.feature_importances_\n",
    "\n",
    "# std = np.std([RF_Model.feature_importances_ for tree in RF_Model.estimators_], axis=0)\n",
    "indices = np.argsort(importances)[::-1]\n",
    "\n",
    "# Print the feature ranking\n",
    "print(\"Feature ranking of model:\")\n",
    "\n",
    "for f in range(Xds_train.shape[1]):\n",
    "    print(\"%d. feature %d | %s | (%f)\" % (f + 1, indices[f],  Xd.columns[indices[f]], importances[indices[f]]))\n",
    "\n",
    "    \n",
    "\n",
    "#print confusion matrix\n",
    "y_pred = (rfc.predict_proba(Xds_test)[:,1]>0.5).astype(int)\n",
    "print(metrics.confusion_matrix(y_test, y_pred))\n",
    "# Printing the precision and recall, among other metrics\n",
    "print(metrics.classification_report(y_test, y_pred))\n",
    "\n",
    "# Plot ROC \n",
    "\n",
    "# import sklearn.metrics as metrics\n",
    "# calculate the fpr and tpr for all thresholds of the classification\n",
    "from ggplot import *\n",
    "\n",
    "probs = rfc.predict_proba(Xds_test)\n",
    "preds = probs[:,1]\n",
    "fpr, tpr, threshold = metrics.roc_curve(y_test, preds)\n",
    "roc_auc = metrics.auc(fpr, tpr)\n",
    "\n",
    "print(\"AUC Score (Test): %f\" % metrics.roc_auc_score(y_test, preds))\n",
    "\n",
    "df = pd.DataFrame(dict(fpr = fpr, tpr = tpr))\n",
    "ggplot(df, aes(x = 'fpr', y = 'tpr')) + geom_line() + geom_abline(linetype = 'dashed') + \\\n",
    "scale_x_continuous(expand = [0, 0], limits = [0,1]) + \\\n",
    "scale_y_continuous(expand = [0, 0], limits = [0,1])"
   ]
  },
  {
   "cell_type": "markdown",
   "id": "68f5f11f-a4fc-4637-a4ae-dd893e070850",
   "metadata": {},
   "source": [
    "#### Ramdom Forest with Grid Search"
   ]
  },
  {
   "cell_type": "code",
   "execution_count": 82,
   "id": "c96e6e55-6acc-4a3d-a294-2dd6d5bedf3e",
   "metadata": {
    "execution": {
     "iopub.execute_input": "2023-03-01T14:09:52.212895Z",
     "iopub.status.busy": "2023-03-01T14:09:52.211896Z",
     "iopub.status.idle": "2023-03-01T14:24:57.120585Z",
     "shell.execute_reply": "2023-03-01T14:24:57.119705Z",
     "shell.execute_reply.started": "2023-03-01T14:09:52.212895Z"
    },
    "tags": []
   },
   "outputs": [
    {
     "name": "stdout",
     "output_type": "stream",
     "text": [
      "Fitting 3 folds for each of 1024 candidates, totalling 3072 fits\n"
     ]
    },
    {
     "data": {
      "text/plain": [
       "RandomForestClassifier(max_depth=7, max_features='sqrt', min_samples_leaf=3,\n",
       "                       min_samples_split=3, n_estimators=50, n_jobs=-1)"
      ]
     },
     "execution_count": 82,
     "metadata": {},
     "output_type": "execute_result"
    }
   ],
   "source": [
    "from sklearn.model_selection import GridSearchCV\n",
    "\n",
    "parameters = {'n_estimators' : (50,100,200,300)\n",
    "              ,'criterion' : ('gini','entropy')\n",
    "              ,'max_depth' : (2,5,7,10)\n",
    "              ,'max_features' : ('auto','sqrt')\n",
    "              ,'min_samples_leaf' : (3,5,10,30)\n",
    "              ,'min_samples_split' : (3,5,10,30)\n",
    "              #,'min_weight_fraction_leaf' : (0.0,0.1,0.2,0.3)\n",
    "             }\n",
    "\n",
    "RF_grid = GridSearchCV(RandomForestClassifier(n_jobs = -1, oob_score = False), param_grid = parameters, cv = 3, verbose = True)\n",
    "\n",
    "RF_grid_model = RF_grid.fit(Xds_train, y_train)\n",
    "\n",
    "RF_grid_model.best_estimator_"
   ]
  },
  {
   "cell_type": "code",
   "execution_count": 86,
   "id": "ac761136-7b04-4bc4-983f-1a7a26ad0eeb",
   "metadata": {
    "execution": {
     "iopub.execute_input": "2023-03-01T14:27:52.567677Z",
     "iopub.status.busy": "2023-03-01T14:27:52.567677Z",
     "iopub.status.idle": "2023-03-01T14:27:52.997046Z",
     "shell.execute_reply": "2023-03-01T14:27:52.997046Z",
     "shell.execute_reply.started": "2023-03-01T14:27:52.567677Z"
    },
    "tags": []
   },
   "outputs": [
    {
     "name": "stdout",
     "output_type": "stream",
     "text": [
      "Feature ranking of model:\n",
      "1. feature 0 | Income | (0.435464)\n",
      "2. feature 2 | CCAvg | (0.207764)\n",
      "3. feature 3 | Education | (0.154706)\n",
      "4. feature 1 | Family | (0.101455)\n",
      "5. feature 6 | CD Account | (0.052162)\n",
      "6. feature 4 | Mortgage | (0.033451)\n",
      "7. feature 8 | CreditCard | (0.007466)\n",
      "8. feature 7 | Online | (0.004304)\n",
      "9. feature 5 | Securities Account | (0.003229)\n",
      "[[1336    4]\n",
      " [  21  124]]\n",
      "              precision    recall  f1-score   support\n",
      "\n",
      "           0       0.98      1.00      0.99      1340\n",
      "           1       0.97      0.86      0.91       145\n",
      "\n",
      "    accuracy                           0.98      1485\n",
      "   macro avg       0.98      0.93      0.95      1485\n",
      "weighted avg       0.98      0.98      0.98      1485\n",
      "\n",
      "AUC Score (Test): 0.997535\n"
     ]
    },
    {
     "data": {
      "image/png": "[encoded data removed]",
      "text/plain": [
       "<Figure size 792x576 with 1 Axes>"
      ]
     },
     "metadata": {},
     "output_type": "display_data"
    },
    {
     "data": {
      "text/plain": [
       "<ggplot: (96662526880)>"
      ]
     },
     "execution_count": 86,
     "metadata": {},
     "output_type": "execute_result"
    }
   ],
   "source": [
    "# Build model with best estimates\n",
    "RF_Model = RandomForestClassifier(\n",
    "                                  criterion ='entropy',  \n",
    "                                  max_depth=7,        \n",
    "                                  max_features='sqrt',                              \n",
    "                                  min_samples_leaf=3,\n",
    "                                  min_samples_split=3,\n",
    "                                  n_estimators =50,\n",
    "                                  n_jobs=-1,\n",
    "                                  random_state=3\n",
    "                                  )\n",
    "RF_Model.fit(Xds_train,y_train)\n",
    "\n",
    "\n",
    "\n",
    "# check var importance\n",
    "# print(RF_Model.feature_importances_)\n",
    "\n",
    "importances = RF_Model.feature_importances_\n",
    "\n",
    "# std = np.std([RF_Model.feature_importances_ for tree in RF_Model.estimators_], axis=0)\n",
    "indices = np.argsort(importances)[::-1]\n",
    "\n",
    "# Print the feature ranking\n",
    "print(\"Feature ranking of model:\")\n",
    "\n",
    "for f in range(Xds_train.shape[1]):\n",
    "    print(\"%d. feature %d | %s | (%f)\" % (f + 1, indices[f],  Xd.columns[indices[f]], importances[indices[f]]))\n",
    "\n",
    "    \n",
    "\n",
    "#print confusion matrix\n",
    "y_pred = (RF_Model.predict_proba(Xds_test)[:,1]>0.5).astype(int)\n",
    "print(metrics.confusion_matrix(y_test, y_pred))\n",
    "# Printing the precision and recall, among other metrics\n",
    "print(metrics.classification_report(y_test, y_pred))\n",
    "\n",
    "# Plot ROC \n",
    "\n",
    "# import sklearn.metrics as metrics\n",
    "# calculate the fpr and tpr for all thresholds of the classification\n",
    "from ggplot import *\n",
    "\n",
    "probs = RF_Model.predict_proba(Xds_test)\n",
    "preds = probs[:,1]\n",
    "fpr, tpr, threshold = metrics.roc_curve(y_test, preds)\n",
    "roc_auc = metrics.auc(fpr, tpr)\n",
    "\n",
    "print(\"AUC Score (Test): %f\" % metrics.roc_auc_score(y_test, preds))\n",
    "\n",
    "df = pd.DataFrame(dict(fpr = fpr, tpr = tpr))\n",
    "ggplot(df, aes(x = 'fpr', y = 'tpr')) + geom_line() + geom_abline(linetype = 'dashed') + \\\n",
    "scale_x_continuous(expand = [0, 0], limits = [0,1]) + \\\n",
    "scale_y_continuous(expand = [0, 0], limits = [0,1])"
   ]
  }
 ],
 "metadata": {
  "kernelspec": {
   "display_name": "Python 3 (ipykernel)",
   "language": "python",
   "name": "python3"
  },
  "language_info": {
   "codemirror_mode": {
    "name": "ipython",
    "version": 3
   },
   "file_extension": ".py",
   "mimetype": "text/x-python",
   "name": "python",
   "nbconvert_exporter": "python",
   "pygments_lexer": "ipython3",
   "version": "3.8.10"
  },
  "papermill": {
   "default_parameters": {},
   "duration": 74.949979,
   "end_time": "2022-02-05T16:51:43.906089",
   "environment_variables": {},
   "exception": null,
   "input_path": "__notebook__.ipynb",
   "output_path": "__notebook__.ipynb",
   "parameters": {},
   "start_time": "2022-02-05T16:50:28.956110",
   "version": "2.3.3"
  }
 },
 "nbformat": 4,
 "nbformat_minor": 5
}
